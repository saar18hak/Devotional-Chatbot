{
 "cells": [
  {
   "cell_type": "code",
   "execution_count": 16,
   "id": "eaee3d16",
   "metadata": {},
   "outputs": [
    {
     "name": "stderr",
     "output_type": "stream",
     "text": [
      "Created a chunk of size 161, which is longer than the specified 100\n",
      "Created a chunk of size 341, which is longer than the specified 100\n",
      "Created a chunk of size 329, which is longer than the specified 100\n"
     ]
    },
    {
     "name": "stdout",
     "output_type": "stream",
     "text": [
      "[Document(metadata={'source': 'speech.txt'}, page_content=\"I regret nothing and fear less.\\n\\nLive fast, fight hard, no regrets!\\n\\n\\nMy time is now!\\n\\n\\nI admire the military. I guess in a world of villains and heroes, they're my heroes. Their dedication, their commitment, their discipline, their code of ethics.\\n\\n\\nI have certain things that I stand for, certain things that I believe in, and if you don't like it and you tell me to go to hell, I think that's your God-given right as a fan. It's one of those deals where I'm that one guy who is outside of that realm of good guy, bad guy. I'm just me, and it elicits a response both positive and negative.\\n\\n\\nI'm the one person who wears the words 'hustle, loyalty, respect' on my T-shirts and merchandise. My audience is children. It's very flattering to see a kid wear your T-shirt; it's even more flattering to have a dad come up to you and say, 'I watch you with my kid. Keep doing what you're doing. You're a role model for my son.'\\n\\n\\nWhen people show loyalty to you, you take care of those who are with you. It's how it goes with everything. If you have a small circle of friends, and one of those friends doesn't stay loyal to you, they don't stay your friend for very long.\")]\n"
     ]
    }
   ],
   "source": [
    "from langchain_community.document_loaders import TextLoader\n",
    "from langchain_community.vectorstores import FAISS\n",
    "from langchain_community.embeddings import OllamaEmbeddings\n",
    "from langchain_text_splitters import CharacterTextSplitter\n",
    "loader = TextLoader(\"speech.txt\")\n",
    "documents = loader.load()\n",
    "print(documents)\n",
    "text_splitter = CharacterTextSplitter(chunk_size = 100,chunk_overlap=30)\n",
    "docs = text_splitter.split_documents(documents)"
   ]
  },
  {
   "cell_type": "code",
   "execution_count": 17,
   "id": "fa882113",
   "metadata": {},
   "outputs": [
    {
     "data": {
      "text/plain": [
       "[Document(metadata={'source': 'speech.txt'}, page_content='I regret nothing and fear less.\\n\\nLive fast, fight hard, no regrets!\\n\\n\\nMy time is now!'),\n",
       " Document(metadata={'source': 'speech.txt'}, page_content=\"I admire the military. I guess in a world of villains and heroes, they're my heroes. Their dedication, their commitment, their discipline, their code of ethics.\"),\n",
       " Document(metadata={'source': 'speech.txt'}, page_content=\"I have certain things that I stand for, certain things that I believe in, and if you don't like it and you tell me to go to hell, I think that's your God-given right as a fan. It's one of those deals where I'm that one guy who is outside of that realm of good guy, bad guy. I'm just me, and it elicits a response both positive and negative.\"),\n",
       " Document(metadata={'source': 'speech.txt'}, page_content=\"I'm the one person who wears the words 'hustle, loyalty, respect' on my T-shirts and merchandise. My audience is children. It's very flattering to see a kid wear your T-shirt; it's even more flattering to have a dad come up to you and say, 'I watch you with my kid. Keep doing what you're doing. You're a role model for my son.'\"),\n",
       " Document(metadata={'source': 'speech.txt'}, page_content=\"When people show loyalty to you, you take care of those who are with you. It's how it goes with everything. If you have a small circle of friends, and one of those friends doesn't stay loyal to you, they don't stay your friend for very long.\")]"
      ]
     },
     "execution_count": 17,
     "metadata": {},
     "output_type": "execute_result"
    }
   ],
   "source": [
    "docs"
   ]
  },
  {
   "cell_type": "code",
   "execution_count": 21,
   "id": "d412b25e",
   "metadata": {},
   "outputs": [
    {
     "data": {
      "text/plain": [
       "<langchain_community.vectorstores.faiss.FAISS at 0x1e751b20430>"
      ]
     },
     "execution_count": 21,
     "metadata": {},
     "output_type": "execute_result"
    }
   ],
   "source": [
    "embeddings = OllamaEmbeddings(model=\"gemma:2b\")\n",
    "db = FAISS.from_documents(docs,embeddings)\n",
    "\n",
    "db"
   ]
  },
  {
   "cell_type": "code",
   "execution_count": 22,
   "id": "6feeca8d",
   "metadata": {},
   "outputs": [
    {
     "data": {
      "text/plain": [
       "[Document(id='cea93181-55e5-438d-aefc-72f02d2ffa61', metadata={'source': 'speech.txt'}, page_content=\"I have certain things that I stand for, certain things that I believe in, and if you don't like it and you tell me to go to hell, I think that's your God-given right as a fan. It's one of those deals where I'm that one guy who is outside of that realm of good guy, bad guy. I'm just me, and it elicits a response both positive and negative.\"),\n",
       " Document(id='2bf9539e-23ca-4586-b7d1-b2dfd98cb9fd', metadata={'source': 'speech.txt'}, page_content=\"When people show loyalty to you, you take care of those who are with you. It's how it goes with everything. If you have a small circle of friends, and one of those friends doesn't stay loyal to you, they don't stay your friend for very long.\"),\n",
       " Document(id='e4f9050c-f7da-40b1-aa0d-6532cfbc0651', metadata={'source': 'speech.txt'}, page_content='I regret nothing and fear less.\\n\\nLive fast, fight hard, no regrets!\\n\\n\\nMy time is now!'),\n",
       " Document(id='397cfa93-d641-49f9-a5be-20246e76409b', metadata={'source': 'speech.txt'}, page_content=\"I'm the one person who wears the words 'hustle, loyalty, respect' on my T-shirts and merchandise. My audience is children. It's very flattering to see a kid wear your T-shirt; it's even more flattering to have a dad come up to you and say, 'I watch you with my kid. Keep doing what you're doing. You're a role model for my son.'\")]"
      ]
     },
     "execution_count": 22,
     "metadata": {},
     "output_type": "execute_result"
    }
   ],
   "source": [
    "query = \"Can i know about the words?\"\n",
    "docs = db.similarity_search(query)\n",
    "docs"
   ]
  },
  {
   "cell_type": "code",
   "execution_count": 23,
   "id": "7a4c19a3",
   "metadata": {},
   "outputs": [
    {
     "data": {
      "text/plain": [
       "\"I have certain things that I stand for, certain things that I believe in, and if you don't like it and you tell me to go to hell, I think that's your God-given right as a fan. It's one of those deals where I'm that one guy who is outside of that realm of good guy, bad guy. I'm just me, and it elicits a response both positive and negative.\""
      ]
     },
     "execution_count": 23,
     "metadata": {},
     "output_type": "execute_result"
    }
   ],
   "source": [
    "retr = db.as_retriever()\n",
    "retr.invoke(query)\n",
    "docs[0].page_content"
   ]
  },
  {
   "cell_type": "code",
   "execution_count": 24,
   "id": "25b0e867",
   "metadata": {},
   "outputs": [
    {
     "data": {
      "text/plain": [
       "[(Document(id='cea93181-55e5-438d-aefc-72f02d2ffa61', metadata={'source': 'speech.txt'}, page_content=\"I have certain things that I stand for, certain things that I believe in, and if you don't like it and you tell me to go to hell, I think that's your God-given right as a fan. It's one of those deals where I'm that one guy who is outside of that realm of good guy, bad guy. I'm just me, and it elicits a response both positive and negative.\"),\n",
       "  np.float32(2388.1943)),\n",
       " (Document(id='2bf9539e-23ca-4586-b7d1-b2dfd98cb9fd', metadata={'source': 'speech.txt'}, page_content=\"When people show loyalty to you, you take care of those who are with you. It's how it goes with everything. If you have a small circle of friends, and one of those friends doesn't stay loyal to you, they don't stay your friend for very long.\"),\n",
       "  np.float32(2564.6682)),\n",
       " (Document(id='e4f9050c-f7da-40b1-aa0d-6532cfbc0651', metadata={'source': 'speech.txt'}, page_content='I regret nothing and fear less.\\n\\nLive fast, fight hard, no regrets!\\n\\n\\nMy time is now!'),\n",
       "  np.float32(2688.1746)),\n",
       " (Document(id='397cfa93-d641-49f9-a5be-20246e76409b', metadata={'source': 'speech.txt'}, page_content=\"I'm the one person who wears the words 'hustle, loyalty, respect' on my T-shirts and merchandise. My audience is children. It's very flattering to see a kid wear your T-shirt; it's even more flattering to have a dad come up to you and say, 'I watch you with my kid. Keep doing what you're doing. You're a role model for my son.'\"),\n",
       "  np.float32(2822.213))]"
      ]
     },
     "execution_count": 24,
     "metadata": {},
     "output_type": "execute_result"
    }
   ],
   "source": [
    "docs_and_score = db.similarity_search_with_score(query)\n",
    "docs_and_score"
   ]
  },
  {
   "cell_type": "code",
   "execution_count": 25,
   "id": "b9e0eb07",
   "metadata": {},
   "outputs": [],
   "source": [
    "db.save_local(\"faiss_index\")"
   ]
  },
  {
   "cell_type": "code",
   "execution_count": 27,
   "id": "10cebe6b",
   "metadata": {},
   "outputs": [
    {
     "data": {
      "text/plain": [
       "[Document(id='cea93181-55e5-438d-aefc-72f02d2ffa61', metadata={'source': 'speech.txt'}, page_content=\"I have certain things that I stand for, certain things that I believe in, and if you don't like it and you tell me to go to hell, I think that's your God-given right as a fan. It's one of those deals where I'm that one guy who is outside of that realm of good guy, bad guy. I'm just me, and it elicits a response both positive and negative.\"),\n",
       " Document(id='2bf9539e-23ca-4586-b7d1-b2dfd98cb9fd', metadata={'source': 'speech.txt'}, page_content=\"When people show loyalty to you, you take care of those who are with you. It's how it goes with everything. If you have a small circle of friends, and one of those friends doesn't stay loyal to you, they don't stay your friend for very long.\"),\n",
       " Document(id='e4f9050c-f7da-40b1-aa0d-6532cfbc0651', metadata={'source': 'speech.txt'}, page_content='I regret nothing and fear less.\\n\\nLive fast, fight hard, no regrets!\\n\\n\\nMy time is now!'),\n",
       " Document(id='397cfa93-d641-49f9-a5be-20246e76409b', metadata={'source': 'speech.txt'}, page_content=\"I'm the one person who wears the words 'hustle, loyalty, respect' on my T-shirts and merchandise. My audience is children. It's very flattering to see a kid wear your T-shirt; it's even more flattering to have a dad come up to you and say, 'I watch you with my kid. Keep doing what you're doing. You're a role model for my son.'\")]"
      ]
     },
     "execution_count": 27,
     "metadata": {},
     "output_type": "execute_result"
    }
   ],
   "source": [
    "new_df = FAISS.load_local(\"faiss_index\",embeddings,allow_dangerous_deserialization=True)\n",
    "docs = new_df.similarity_search(query)\n",
    "docs"
   ]
  },
  {
   "cell_type": "code",
   "execution_count": null,
   "id": "b9a4ac00",
   "metadata": {},
   "outputs": [],
   "source": []
  }
 ],
 "metadata": {
  "kernelspec": {
   "display_name": "Python 3",
   "language": "python",
   "name": "python3"
  },
  "language_info": {
   "codemirror_mode": {
    "name": "ipython",
    "version": 3
   },
   "file_extension": ".py",
   "mimetype": "text/x-python",
   "name": "python",
   "nbconvert_exporter": "python",
   "pygments_lexer": "ipython3",
   "version": "3.10.0"
  }
 },
 "nbformat": 4,
 "nbformat_minor": 5
}
