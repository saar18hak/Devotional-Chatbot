{
 "cells": [
  {
   "cell_type": "code",
   "execution_count": null,
   "id": "47e1be6f",
   "metadata": {},
   "outputs": [
    {
     "data": {
      "text/plain": [
       "ChatGroq(client=<groq.resources.chat.completions.Completions object at 0x000002DA558A2E00>, async_client=<groq.resources.chat.completions.AsyncCompletions object at 0x000002DA558D5240>, model_name='Llama3-8b-8192', model_kwargs={}, groq_api_key=SecretStr('**********'))"
      ]
     },
     "execution_count": 1,
     "metadata": {},
     "output_type": "execute_result"
    }
   ],
   "source": [
    "import os\n",
    "from dotenv import load_dotenv\n",
    "load_dotenv()\n",
    "from langchain_groq import ChatGroq\n",
    "\n",
    "groq_api_key=os.getenv(\"GROQ_API_KEY\")\n",
    "\n",
    "llm=ChatGroq(groq_api_key=groq_api_key,model_name=\"Llama3-8b-8192\")\n",
    "\n",
    "llm\n",
    "\n"
   ]
  },
  {
   "cell_type": "code",
   "execution_count": 3,
   "id": "8ade52e5",
   "metadata": {},
   "outputs": [
    {
     "name": "stderr",
     "output_type": "stream",
     "text": [
      "c:\\Users\\Saarthak\\OneDrive\\Desktop\\Langchain\\venv\\lib\\site-packages\\tqdm\\auto.py:21: TqdmWarning: IProgress not found. Please update jupyter and ipywidgets. See https://ipywidgets.readthedocs.io/en/stable/user_install.html\n",
      "  from .autonotebook import tqdm as notebook_tqdm\n",
      "c:\\Users\\Saarthak\\OneDrive\\Desktop\\Langchain\\venv\\lib\\site-packages\\huggingface_hub\\file_download.py:143: UserWarning: `huggingface_hub` cache-system uses symlinks by default to efficiently store duplicated files but your machine does not support them in C:\\Users\\Saarthak\\.cache\\huggingface\\hub\\models--sentence-transformers--all-MiniLM-L6-v2. Caching files will still work but in a degraded version that might require more space on your disk. This warning can be disabled by setting the `HF_HUB_DISABLE_SYMLINKS_WARNING` environment variable. For more details, see https://huggingface.co/docs/huggingface_hub/how-to-cache#limitations.\n",
      "To support symlinks on Windows, you either need to activate Developer Mode or to run Python as an administrator. In order to activate developer mode, see this article: https://docs.microsoft.com/en-us/windows/apps/get-started/enable-your-device-for-development\n",
      "  warnings.warn(message)\n",
      "Xet Storage is enabled for this repo, but the 'hf_xet' package is not installed. Falling back to regular HTTP download. For better performance, install the package with: `pip install huggingface_hub[hf_xet]` or `pip install hf_xet`\n"
     ]
    }
   ],
   "source": [
    "os.environ['HF_TOKEN']=os.getenv(\"HF_TOKEN\")\n",
    "from langchain_huggingface import HuggingFaceEmbeddings\n",
    "embeddings=HuggingFaceEmbeddings(model_name=\"all-MiniLM-L6-v2\")"
   ]
  },
  {
   "cell_type": "code",
   "execution_count": 4,
   "id": "23e4d780",
   "metadata": {},
   "outputs": [
    {
     "name": "stderr",
     "output_type": "stream",
     "text": [
      "USER_AGENT environment variable not set, consider setting it to identify your requests.\n"
     ]
    }
   ],
   "source": [
    "from langchain_chroma import Chroma\n",
    "from langchain_community.document_loaders import WebBaseLoader\n",
    "from langchain_core.prompts import ChatPromptTemplate\n",
    "from langchain_text_splitters import RecursiveCharacterTextSplitter\n",
    "from langchain.chains import create_retrieval_chain\n",
    "from langchain.chains.combine_documents import create_stuff_documents_chain"
   ]
  },
  {
   "cell_type": "code",
   "execution_count": 7,
   "id": "d1a8c537",
   "metadata": {},
   "outputs": [
    {
     "data": {
      "text/plain": [
       "[Document(metadata={'source': 'https://techcrunch.com/2025/07/25/india-bans-streaming-apps-youve-never-heard-of-but-millions-watch/'}, page_content='India has ordered the blocking of 25 streaming services —\\xa0many with millions of viewers and even paying subscribers — for allegedly promoting “obscene” content, in one of the South Asian nation’s biggest digital crackdowns yet. The order affects lesser-known, but wildly popular services like Ullu and ALTT that cater to the country’s mass-market appetite for adult and edgy entertainment.This week, the Ministry of Information and Broadcasting issued directives to block access to websites and apps linked to 25 streaming services, citing provisions of the Information Technology Act of 2000 and the IT Rules of 2021, TechCrunch learned.The order came months after the National Commission for Protection of Child Rights and a Parliamentary Standing Committee on Information Technology raised concerns about mature content being streamed on these platforms without adequate safeguards.The Indian government contacted internet service providers and app stores, including Google Play and the Apple App Store, earlier this week to restrict these streaming services, a source privy to the matter told TechCrunch.Some of these services, especially the major ones with millions of subscribers, remained live at the time of filing this article.Google and Apple did not respond to requests for comment. The information and broadcasting minister also did not respond to an email sent Friday.Of the 25 streaming services, 10 offered in-app purchases through their apps on Google Play and the App Store, generating a cumulative $5.7 million since launch with nearly 105 million downloads, per the Appfigures data exclusively shared with TechCrunch. The wide gap between in-app purchases and downloads is primarily due to their low subscription costs — significantly lower than Netflix and other global platforms in India.Notably, some of these streaming services were either never listed on traditional app stores or had been removed earlier, and instead offered their apps as direct APK downloads. As of publication, some of these APK files were still accessible through their websites or third-party platforms.Earlier this month, Indian production company Balaji Telefilms, the parent of ALTT, disclosed that its streaming app generated ₹202.6 million ($2.3 million) in revenue by adding 1.06 million subscribers in 2025. ALTT’s content was watched for more than 5.8 million hours, garnering 160 million annual views, the company said.ALTT’s app was no longer available for download through Google Play and the App Store in India, and its website was inaccessible on most Indian ISPs at the time of filing this article.Balaji Telefilms did not respond to a request for comment on the ban.Ullu, another relatively prominent streaming service named by the Indian government, remained available via its app on the Indian Play Store, and its website was accessible as well. The service’s iOS app, however, was not available for download from the Indian App Store.Ullu Digital, the parent company of Ullu, reported a net profit of ₹212.3 million ($2.5 million) for the financial year 2024, per its regulatory filing reviewed by TechCrunch. The company posted a revenue of ₹931.4 million ($11 million) and declared a net worth of ₹2.08 billion ($24 million).Ullu Digital did not respond to requests for comment.Alongside millions of dollars in subscription revenue, these streaming services were also attracting millions of global visits to their websites.Ullu saw nearly 10% year-over-year growth in worldwide traffic, reaching 1.9 million visits in June, while ALTT recorded over 130% growth to 776,400, per Similarweb.In India, Ullu recorded 18.9% year-over-year growth, reaching 1.8 million visits, while ALTT saw a 157.8% increase to 696,200 visits, Similarweb data shows.Importantly, this is not the first time the streaming business has seen a crackdown in India. Global platforms, including Amazon Prime Video and Netflix, often face instances of censorship by the Indian government.However, even stricter actions are seen in cases of obscenity despite a lack of clarity on regulations, as watching explicit content featuring fully consensual interactions between adult actors in a private space is not a crime.In 2023, the then Indian information broadcasting minister warned streaming platforms not to serve abusive and obscene content. New Delhi has also blocked thousands of websites streaming pornographic content. On a plea to regulate sexually explicit content in April this year, India’s Supreme Court also issued notices to streaming platforms and the Indian government.That said, curbing obscene content remains a challenge even for the Indian government. Smaller streaming services — like those targeted in this crackdown — often reappear under new names, apps, and domains. It is equally difficult for intermediaries like Google, Apple, and internet providers to fully block access, as these platforms often spread through alternative channels and use social media platforms like Instagram and YouTube to attract viewers.Topics')]"
      ]
     },
     "execution_count": 7,
     "metadata": {},
     "output_type": "execute_result"
    }
   ],
   "source": [
    "# 1. Load, chunk and index the contents of the blog to create a retriever.\n",
    "import bs4\n",
    "loader = WebBaseLoader(\n",
    "    web_paths=(\"https://techcrunch.com/2025/07/25/india-bans-streaming-apps-youve-never-heard-of-but-millions-watch/\",),\n",
    "    bs_kwargs=dict(\n",
    "        parse_only=bs4.SoupStrainer(\n",
    "            class_=(\"wp-block-paragraph\")\n",
    "        )\n",
    "    ),\n",
    ")\n",
    "\n",
    "docs=loader.load()\n",
    "docs"
   ]
  },
  {
   "cell_type": "code",
   "execution_count": 8,
   "id": "e0e4a3f9",
   "metadata": {},
   "outputs": [
    {
     "name": "stderr",
     "output_type": "stream",
     "text": [
      "c:\\Users\\Saarthak\\OneDrive\\Desktop\\Langchain\\venv\\lib\\site-packages\\torch\\nn\\modules\\module.py:1762: FutureWarning: `encoder_attention_mask` is deprecated and will be removed in version 4.55.0 for `BertSdpaSelfAttention.forward`.\n",
      "  return forward_call(*args, **kwargs)\n"
     ]
    },
    {
     "data": {
      "text/plain": [
       "VectorStoreRetriever(tags=['Chroma', 'HuggingFaceEmbeddings'], vectorstore=<langchain_chroma.vectorstores.Chroma object at 0x000002DA05467FD0>, search_kwargs={})"
      ]
     },
     "execution_count": 8,
     "metadata": {},
     "output_type": "execute_result"
    }
   ],
   "source": [
    "text_splitter=RecursiveCharacterTextSplitter(chunk_size=1000,chunk_overlap=200)\n",
    "splits=text_splitter.split_documents(docs)\n",
    "vectorstore=Chroma.from_documents(documents=splits,embedding=embeddings)\n",
    "retriever=vectorstore.as_retriever()\n",
    "retriever"
   ]
  },
  {
   "cell_type": "code",
   "execution_count": 9,
   "id": "b639d05e",
   "metadata": {},
   "outputs": [],
   "source": [
    "## Prompt Template\n",
    "system_prompt = (\n",
    "    \"You are an assistant for question-answering tasks. \"\n",
    "    \"Use the following pieces of retrieved context to answer \"\n",
    "    \"the question. If you don't know the answer, say that you \"\n",
    "    \"don't know. Use three sentences maximum and keep the \"\n",
    "    \"answer concise.\"\n",
    "    \"\\n\\n\"\n",
    "    \"{context}\"\n",
    ")\n",
    "\n",
    "prompt = ChatPromptTemplate.from_messages(\n",
    "    [\n",
    "        (\"system\", system_prompt),\n",
    "        (\"human\", \"{input}\"),\n",
    "    ]\n",
    ")"
   ]
  },
  {
   "cell_type": "code",
   "execution_count": 10,
   "id": "32a518df",
   "metadata": {},
   "outputs": [],
   "source": [
    "question_answer_chain=create_stuff_documents_chain(llm,prompt)\n",
    "rag_chain=create_retrieval_chain(retriever,question_answer_chain)"
   ]
  },
  {
   "cell_type": "code",
   "execution_count": 11,
   "id": "5f95502e",
   "metadata": {},
   "outputs": [
    {
     "name": "stderr",
     "output_type": "stream",
     "text": [
      "c:\\Users\\Saarthak\\OneDrive\\Desktop\\Langchain\\venv\\lib\\site-packages\\torch\\nn\\modules\\module.py:1762: FutureWarning: `encoder_attention_mask` is deprecated and will be removed in version 4.55.0 for `BertSdpaSelfAttention.forward`.\n",
      "  return forward_call(*args, **kwargs)\n"
     ]
    },
    {
     "data": {
      "text/plain": [
       "{'input': 'How many streaming services India ordered to block?',\n",
       " 'context': [Document(id='a7ac60f3-d8d5-4150-892c-6b6214b958b1', metadata={'source': 'https://techcrunch.com/2025/07/25/india-bans-streaming-apps-youve-never-heard-of-but-millions-watch/'}, page_content='India has ordered the blocking of 25 streaming services —\\xa0many with millions of viewers and even paying subscribers — for allegedly promoting “obscene” content, in one of the South Asian nation’s biggest digital crackdowns yet. The order affects lesser-known, but wildly popular services like Ullu and ALTT that cater to the country’s mass-market appetite for adult and edgy entertainment.This week, the Ministry of Information and Broadcasting issued directives to block access to websites and apps linked to 25 streaming services, citing provisions of the Information Technology Act of 2000 and the IT Rules of 2021, TechCrunch learned.The order came months after the National Commission for Protection of Child Rights and a Parliamentary Standing Committee on Information Technology raised concerns about mature content being streamed on these platforms without adequate safeguards.The Indian government contacted internet service providers and app stores, including Google Play and the Apple App'),\n",
       "  Document(id='ef3df2d9-4077-4f54-b617-d5eefa987d57', metadata={'source': 'https://techcrunch.com/2025/07/25/india-bans-streaming-apps-youve-never-heard-of-but-millions-watch/'}, page_content='actions are seen in cases of obscenity despite a lack of clarity on regulations, as watching explicit content featuring fully consensual interactions between adult actors in a private space is not a crime.In 2023, the then Indian information broadcasting minister warned streaming platforms not to serve abusive and obscene content. New Delhi has also blocked thousands of websites streaming pornographic content. On a plea to regulate sexually explicit content in April this year, India’s Supreme Court also issued notices to streaming platforms and the Indian government.That said, curbing obscene content remains a challenge even for the Indian government. Smaller streaming services — like those targeted in this crackdown — often reappear under new names, apps, and domains. It is equally difficult for intermediaries like Google, Apple, and internet providers to fully block access, as these platforms often spread through alternative channels and use social media platforms like Instagram and'),\n",
       "  Document(id='f6dcad6a-bb0a-4b8b-8575-1d726c545133', metadata={'source': 'https://techcrunch.com/2025/07/25/india-bans-streaming-apps-youve-never-heard-of-but-millions-watch/'}, page_content='about mature content being streamed on these platforms without adequate safeguards.The Indian government contacted internet service providers and app stores, including Google Play and the Apple App Store, earlier this week to restrict these streaming services, a source privy to the matter told TechCrunch.Some of these services, especially the major ones with millions of subscribers, remained live at the time of filing this article.Google and Apple did not respond to requests for comment. The information and broadcasting minister also did not respond to an email sent Friday.Of the 25 streaming services, 10 offered in-app purchases through their apps on Google Play and the App Store, generating a cumulative $5.7 million since launch with nearly 105 million downloads, per the Appfigures data exclusively shared with TechCrunch. The wide gap between in-app purchases and downloads is primarily due to their low subscription costs — significantly lower than Netflix and other global platforms'),\n",
       "  Document(id='3279faa6-51a7-4331-aef3-d56400ad8966', metadata={'source': 'https://techcrunch.com/2025/07/25/india-bans-streaming-apps-youve-never-heard-of-but-millions-watch/'}, page_content='a net worth of ₹2.08 billion ($24 million).Ullu Digital did not respond to requests for comment.Alongside millions of dollars in subscription revenue, these streaming services were also attracting millions of global visits to their websites.Ullu saw nearly 10% year-over-year growth in worldwide traffic, reaching 1.9 million visits in June, while ALTT recorded over 130% growth to 776,400, per Similarweb.In India, Ullu recorded 18.9% year-over-year growth, reaching 1.8 million visits, while ALTT saw a 157.8% increase to 696,200 visits, Similarweb data shows.Importantly, this is not the first time the streaming business has seen a crackdown in India. Global platforms, including Amazon Prime Video and Netflix, often face instances of censorship by the Indian government.However, even stricter actions are seen in cases of obscenity despite a lack of clarity on regulations, as watching explicit content featuring fully consensual interactions between adult actors in a private space is not a')],\n",
       " 'answer': 'India ordered the blocking of 25 streaming services.'}"
      ]
     },
     "execution_count": 11,
     "metadata": {},
     "output_type": "execute_result"
    }
   ],
   "source": [
    "response=rag_chain.invoke({\"input\":\"How many streaming services India ordered to block?\"})\n",
    "response"
   ]
  },
  {
   "cell_type": "code",
   "execution_count": 12,
   "id": "60bbe513",
   "metadata": {},
   "outputs": [
    {
     "name": "stderr",
     "output_type": "stream",
     "text": [
      "c:\\Users\\Saarthak\\OneDrive\\Desktop\\Langchain\\venv\\lib\\site-packages\\torch\\nn\\modules\\module.py:1762: FutureWarning: `encoder_attention_mask` is deprecated and will be removed in version 4.55.0 for `BertSdpaSelfAttention.forward`.\n",
      "  return forward_call(*args, **kwargs)\n"
     ]
    },
    {
     "data": {
      "text/plain": [
       "{'input': 'Which are those?',\n",
       " 'context': [Document(id='bf92ff8a-49bc-42e7-a060-a78ea513694f', metadata={'source': 'https://techcrunch.com/2025/07/25/india-bans-streaming-apps-youve-never-heard-of-but-millions-watch/'}, page_content='for intermediaries like Google, Apple, and internet providers to fully block access, as these platforms often spread through alternative channels and use social media platforms like Instagram and YouTube to attract viewers.Topics'),\n",
       "  Document(id='eabdfc5f-7bad-4c19-bceb-b2c809060dcc', metadata={'source': 'https://techcrunch.com/2025/07/25/india-bans-streaming-apps-youve-never-heard-of-but-millions-watch/'}, page_content='exclusively shared with TechCrunch. The wide gap between in-app purchases and downloads is primarily due to their low subscription costs — significantly lower than Netflix and other global platforms in India.Notably, some of these streaming services were either never listed on traditional app stores or had been removed earlier, and instead offered their apps as direct APK downloads. As of publication, some of these APK files were still accessible through their websites or third-party platforms.Earlier this month, Indian production company Balaji Telefilms, the parent of ALTT, disclosed that its streaming app generated ₹202.6 million ($2.3 million) in revenue by adding 1.06 million subscribers in 2025. ALTT’s content was watched for more than 5.8 million hours, garnering 160 million annual views, the company said.ALTT’s app was no longer available for download through Google Play and the App Store in India, and its website was inaccessible on most Indian ISPs at the time of filing this'),\n",
       "  Document(id='a7ac60f3-d8d5-4150-892c-6b6214b958b1', metadata={'source': 'https://techcrunch.com/2025/07/25/india-bans-streaming-apps-youve-never-heard-of-but-millions-watch/'}, page_content='India has ordered the blocking of 25 streaming services —\\xa0many with millions of viewers and even paying subscribers — for allegedly promoting “obscene” content, in one of the South Asian nation’s biggest digital crackdowns yet. The order affects lesser-known, but wildly popular services like Ullu and ALTT that cater to the country’s mass-market appetite for adult and edgy entertainment.This week, the Ministry of Information and Broadcasting issued directives to block access to websites and apps linked to 25 streaming services, citing provisions of the Information Technology Act of 2000 and the IT Rules of 2021, TechCrunch learned.The order came months after the National Commission for Protection of Child Rights and a Parliamentary Standing Committee on Information Technology raised concerns about mature content being streamed on these platforms without adequate safeguards.The Indian government contacted internet service providers and app stores, including Google Play and the Apple App'),\n",
       "  Document(id='f6dcad6a-bb0a-4b8b-8575-1d726c545133', metadata={'source': 'https://techcrunch.com/2025/07/25/india-bans-streaming-apps-youve-never-heard-of-but-millions-watch/'}, page_content='about mature content being streamed on these platforms without adequate safeguards.The Indian government contacted internet service providers and app stores, including Google Play and the Apple App Store, earlier this week to restrict these streaming services, a source privy to the matter told TechCrunch.Some of these services, especially the major ones with millions of subscribers, remained live at the time of filing this article.Google and Apple did not respond to requests for comment. The information and broadcasting minister also did not respond to an email sent Friday.Of the 25 streaming services, 10 offered in-app purchases through their apps on Google Play and the App Store, generating a cumulative $5.7 million since launch with nearly 105 million downloads, per the Appfigures data exclusively shared with TechCrunch. The wide gap between in-app purchases and downloads is primarily due to their low subscription costs — significantly lower than Netflix and other global platforms')],\n",
       " 'answer': \"I don't know the specific names of the 25 streaming services that were ordered to be blocked in India, as that information is not provided in the given context.\"}"
      ]
     },
     "execution_count": 12,
     "metadata": {},
     "output_type": "execute_result"
    }
   ],
   "source": [
    "rag_chain.invoke({\"input\":\"Which are those?\"})"
   ]
  },
  {
   "cell_type": "code",
   "execution_count": 13,
   "id": "54622ed0",
   "metadata": {},
   "outputs": [],
   "source": [
    "from langchain.chains import create_history_aware_retriever\n",
    "from langchain_core.prompts import MessagesPlaceholder\n",
    "\n",
    "contextualize_q_system_prompt = (\n",
    "    \"Given a chat history and the latest user question \"\n",
    "    \"which might reference context in the chat history, \"\n",
    "    \"formulate a standalone question which can be understood \"\n",
    "    \"without the chat history. Do NOT answer the question, \"\n",
    "    \"just reformulate it if needed and otherwise return it as is.\"\n",
    ")\n",
    "contextualize_q_prompt = ChatPromptTemplate.from_messages(\n",
    "    [\n",
    "        (\"system\", contextualize_q_system_prompt),\n",
    "        MessagesPlaceholder(\"chat_history\"),\n",
    "        (\"human\", \"{input}\"),\n",
    "    ]\n",
    ")"
   ]
  },
  {
   "cell_type": "code",
   "execution_count": 14,
   "id": "f79e233e",
   "metadata": {},
   "outputs": [
    {
     "data": {
      "text/plain": [
       "RunnableBinding(bound=RunnableBranch(branches=[(RunnableLambda(lambda x: not x.get('chat_history', False)), RunnableLambda(lambda x: x['input'])\n",
       "| VectorStoreRetriever(tags=['Chroma', 'HuggingFaceEmbeddings'], vectorstore=<langchain_chroma.vectorstores.Chroma object at 0x000002DA05467FD0>, search_kwargs={}))], default=ChatPromptTemplate(input_variables=['chat_history', 'input'], input_types={'chat_history': list[typing.Annotated[typing.Union[typing.Annotated[langchain_core.messages.ai.AIMessage, Tag(tag='ai')], typing.Annotated[langchain_core.messages.human.HumanMessage, Tag(tag='human')], typing.Annotated[langchain_core.messages.chat.ChatMessage, Tag(tag='chat')], typing.Annotated[langchain_core.messages.system.SystemMessage, Tag(tag='system')], typing.Annotated[langchain_core.messages.function.FunctionMessage, Tag(tag='function')], typing.Annotated[langchain_core.messages.tool.ToolMessage, Tag(tag='tool')], typing.Annotated[langchain_core.messages.ai.AIMessageChunk, Tag(tag='AIMessageChunk')], typing.Annotated[langchain_core.messages.human.HumanMessageChunk, Tag(tag='HumanMessageChunk')], typing.Annotated[langchain_core.messages.chat.ChatMessageChunk, Tag(tag='ChatMessageChunk')], typing.Annotated[langchain_core.messages.system.SystemMessageChunk, Tag(tag='SystemMessageChunk')], typing.Annotated[langchain_core.messages.function.FunctionMessageChunk, Tag(tag='FunctionMessageChunk')], typing.Annotated[langchain_core.messages.tool.ToolMessageChunk, Tag(tag='ToolMessageChunk')]], FieldInfo(annotation=NoneType, required=True, discriminator=Discriminator(discriminator=<function _get_type at 0x000002DA5543CEE0>, custom_error_type=None, custom_error_message=None, custom_error_context=None))]]}, partial_variables={}, messages=[SystemMessagePromptTemplate(prompt=PromptTemplate(input_variables=[], input_types={}, partial_variables={}, template='Given a chat history and the latest user question which might reference context in the chat history, formulate a standalone question which can be understood without the chat history. Do NOT answer the question, just reformulate it if needed and otherwise return it as is.'), additional_kwargs={}), MessagesPlaceholder(variable_name='chat_history'), HumanMessagePromptTemplate(prompt=PromptTemplate(input_variables=['input'], input_types={}, partial_variables={}, template='{input}'), additional_kwargs={})])\n",
       "| ChatGroq(client=<groq.resources.chat.completions.Completions object at 0x000002DA558A2E00>, async_client=<groq.resources.chat.completions.AsyncCompletions object at 0x000002DA558D5240>, model_name='Llama3-8b-8192', model_kwargs={}, groq_api_key=SecretStr('**********'))\n",
       "| StrOutputParser()\n",
       "| VectorStoreRetriever(tags=['Chroma', 'HuggingFaceEmbeddings'], vectorstore=<langchain_chroma.vectorstores.Chroma object at 0x000002DA05467FD0>, search_kwargs={})), kwargs={}, config={'run_name': 'chat_retriever_chain'}, config_factories=[])"
      ]
     },
     "execution_count": 14,
     "metadata": {},
     "output_type": "execute_result"
    }
   ],
   "source": [
    "history_aware_retriever=create_history_aware_retriever(llm,retriever,contextualize_q_prompt)\n",
    "history_aware_retriever"
   ]
  },
  {
   "cell_type": "code",
   "execution_count": 15,
   "id": "fd15d6b4",
   "metadata": {},
   "outputs": [],
   "source": [
    "qa_prompt = ChatPromptTemplate.from_messages(\n",
    "    [\n",
    "        (\"system\", system_prompt),\n",
    "        MessagesPlaceholder(\"chat_history\"),\n",
    "        (\"human\", \"{input}\"),\n",
    "    ]\n",
    ")"
   ]
  },
  {
   "cell_type": "code",
   "execution_count": 16,
   "id": "48806df7",
   "metadata": {},
   "outputs": [],
   "source": [
    "question_answer_chain=create_stuff_documents_chain(llm,qa_prompt)\n",
    "rag_chain=create_retrieval_chain(history_aware_retriever,question_answer_chain)"
   ]
  },
  {
   "cell_type": "code",
   "execution_count": 23,
   "id": "35f1c88a",
   "metadata": {},
   "outputs": [
    {
     "name": "stderr",
     "output_type": "stream",
     "text": [
      "c:\\Users\\Saarthak\\OneDrive\\Desktop\\Langchain\\venv\\lib\\site-packages\\torch\\nn\\modules\\module.py:1762: FutureWarning: `encoder_attention_mask` is deprecated and will be removed in version 4.55.0 for `BertSdpaSelfAttention.forward`.\n",
      "  return forward_call(*args, **kwargs)\n",
      "c:\\Users\\Saarthak\\OneDrive\\Desktop\\Langchain\\venv\\lib\\site-packages\\torch\\nn\\modules\\module.py:1762: FutureWarning: `encoder_attention_mask` is deprecated and will be removed in version 4.55.0 for `BertSdpaSelfAttention.forward`.\n",
      "  return forward_call(*args, **kwargs)\n"
     ]
    },
    {
     "name": "stdout",
     "output_type": "stream",
     "text": [
      "Ullu saw nearly 10% year-over-year growth in worldwide traffic, reaching 1.9 million visits in June, and in India, it recorded 18.9% year-over-year growth, reaching 1.8 million visits.\n"
     ]
    }
   ],
   "source": [
    "from langchain_core.messages import AIMessage,HumanMessage\n",
    "chat_history=[]\n",
    "question=\"What was Ullu growth?\"\n",
    "response1=rag_chain.invoke({\"input\":question,\"chat_history\":chat_history})\n",
    "\n",
    "chat_history.extend(\n",
    "    [\n",
    "        HumanMessage(content=question),\n",
    "        AIMessage(content=response1[\"answer\"])\n",
    "    ]\n",
    ")\n",
    "\n",
    "question2=\"Was it available on Indian Play Store?\"\n",
    "response2=rag_chain.invoke({\"input\":question,\"chat_history\":chat_history})\n",
    "print(response2['answer'])"
   ]
  },
  {
   "cell_type": "code",
   "execution_count": 24,
   "id": "8411824b",
   "metadata": {},
   "outputs": [
    {
     "data": {
      "text/plain": [
       "[HumanMessage(content='What was Ullu growth?', additional_kwargs={}, response_metadata={}),\n",
       " AIMessage(content='According to the text, Ullu saw nearly 10% year-over-year growth in worldwide traffic, reaching 1.9 million visits in June, while in India, it recorded 18.9% year-over-year growth, reaching 1.8 million visits. Additionally, Ullu Digital, the parent company of Ullu, reported a net profit of ₹212.3 million ($2.5 million) for the financial year 2024.', additional_kwargs={}, response_metadata={})]"
      ]
     },
     "execution_count": 24,
     "metadata": {},
     "output_type": "execute_result"
    }
   ],
   "source": [
    "chat_history"
   ]
  },
  {
   "cell_type": "code",
   "execution_count": 25,
   "id": "b0f0d6bf",
   "metadata": {},
   "outputs": [],
   "source": [
    "from langchain_community.chat_message_histories import ChatMessageHistory\n",
    "from langchain_core.chat_history import BaseChatMessageHistory\n",
    "from langchain_core.runnables.history import RunnableWithMessageHistory\n",
    "\n",
    "store = {}\n",
    "\n",
    "\n",
    "def get_session_history(session_id: str) -> BaseChatMessageHistory:\n",
    "    if session_id not in store:\n",
    "        store[session_id] = ChatMessageHistory()\n",
    "    return store[session_id]\n",
    "\n",
    "\n",
    "conversational_rag_chain = RunnableWithMessageHistory(\n",
    "    rag_chain,\n",
    "    get_session_history,\n",
    "    input_messages_key=\"input\",\n",
    "    history_messages_key=\"chat_history\",\n",
    "    output_messages_key=\"answer\",\n",
    ")"
   ]
  },
  {
   "cell_type": "code",
   "execution_count": 28,
   "id": "f6bb2b1f",
   "metadata": {},
   "outputs": [
    {
     "name": "stderr",
     "output_type": "stream",
     "text": [
      "c:\\Users\\Saarthak\\OneDrive\\Desktop\\Langchain\\venv\\lib\\site-packages\\torch\\nn\\modules\\module.py:1762: FutureWarning: `encoder_attention_mask` is deprecated and will be removed in version 4.55.0 for `BertSdpaSelfAttention.forward`.\n",
      "  return forward_call(*args, **kwargs)\n"
     ]
    },
    {
     "data": {
      "text/plain": [
       "'India ordered the blocking of 25 streaming services for allegedly promoting \"obscene\" content.'"
      ]
     },
     "execution_count": 28,
     "metadata": {},
     "output_type": "execute_result"
    }
   ],
   "source": [
    "conversational_rag_chain.invoke(\n",
    "    {\"input\": \"India ordered what?\"},\n",
    "    config={\n",
    "        \"configurable\": {\"session_id\": \"abc123\"}\n",
    "    },  # constructs a key \"abc123\" in `store`.\n",
    ")[\"answer\"]"
   ]
  },
  {
   "cell_type": "code",
   "execution_count": 29,
   "id": "c4a01784",
   "metadata": {},
   "outputs": [
    {
     "name": "stderr",
     "output_type": "stream",
     "text": [
      "c:\\Users\\Saarthak\\OneDrive\\Desktop\\Langchain\\venv\\lib\\site-packages\\torch\\nn\\modules\\module.py:1762: FutureWarning: `encoder_attention_mask` is deprecated and will be removed in version 4.55.0 for `BertSdpaSelfAttention.forward`.\n",
      "  return forward_call(*args, **kwargs)\n"
     ]
    },
    {
     "data": {
      "text/plain": [
       "\"The services that were ordered to be blocked include lesser-known but wildly popular services like Ullu and ALTT, which cater to India's mass-market appetite for adult and edgy entertainment.\""
      ]
     },
     "execution_count": 29,
     "metadata": {},
     "output_type": "execute_result"
    }
   ],
   "source": [
    "conversational_rag_chain.invoke(\n",
    "    {\"input\": \"Tell me more about the services , some of it?\"},\n",
    "    config={\"configurable\": {\"session_id\": \"abc123\"}},\n",
    ")[\"answer\"]"
   ]
  },
  {
   "cell_type": "code",
   "execution_count": 30,
   "id": "38957a58",
   "metadata": {},
   "outputs": [
    {
     "data": {
      "text/plain": [
       "{'abc123': InMemoryChatMessageHistory(messages=[HumanMessage(content='What is Task Decomposition?', additional_kwargs={}, response_metadata={}), AIMessage(content=\"I don't know. The provided context doesn't mention Task Decomposition.\", additional_kwargs={}, response_metadata={}), HumanMessage(content='From whom the order came after months?', additional_kwargs={}, response_metadata={}), AIMessage(content='The order came after months from the National Commission for Protection of Child Rights and a Parliamentary Standing Committee on Information Technology.', additional_kwargs={}, response_metadata={}), HumanMessage(content='India ordered what?', additional_kwargs={}, response_metadata={}), AIMessage(content='India ordered the blocking of 25 streaming services for allegedly promoting \"obscene\" content.', additional_kwargs={}, response_metadata={}), HumanMessage(content='Tell me more about the services , some of it?', additional_kwargs={}, response_metadata={}), AIMessage(content=\"The services that were ordered to be blocked include lesser-known but wildly popular services like Ullu and ALTT, which cater to India's mass-market appetite for adult and edgy entertainment.\", additional_kwargs={}, response_metadata={})])}"
      ]
     },
     "execution_count": 30,
     "metadata": {},
     "output_type": "execute_result"
    }
   ],
   "source": [
    "store"
   ]
  },
  {
   "cell_type": "code",
   "execution_count": null,
   "id": "24cbd051",
   "metadata": {},
   "outputs": [],
   "source": []
  }
 ],
 "metadata": {
  "kernelspec": {
   "display_name": "Python 3",
   "language": "python",
   "name": "python3"
  },
  "language_info": {
   "codemirror_mode": {
    "name": "ipython",
    "version": 3
   },
   "file_extension": ".py",
   "mimetype": "text/x-python",
   "name": "python",
   "nbconvert_exporter": "python",
   "pygments_lexer": "ipython3",
   "version": "3.10.0"
  }
 },
 "nbformat": 4,
 "nbformat_minor": 5
}
