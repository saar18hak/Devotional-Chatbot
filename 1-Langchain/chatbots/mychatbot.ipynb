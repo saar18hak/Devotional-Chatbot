{
 "cells": [
  {
   "cell_type": "code",
   "execution_count": 22,
   "id": "6eff46d3",
   "metadata": {},
   "outputs": [
    {
     "name": "stdout",
     "output_type": "stream",
     "text": [
      "Requirement already satisfied: requests in c:\\users\\saarthak\\onedrive\\desktop\\langchain\\venv\\lib\\site-packages (2.32.4)\n",
      "Requirement already satisfied: charset_normalizer<4,>=2 in c:\\users\\saarthak\\onedrive\\desktop\\langchain\\venv\\lib\\site-packages (from requests) (3.4.2)\n",
      "Requirement already satisfied: idna<4,>=2.5 in c:\\users\\saarthak\\onedrive\\desktop\\langchain\\venv\\lib\\site-packages (from requests) (3.10)\n",
      "Requirement already satisfied: urllib3<3,>=1.21.1 in c:\\users\\saarthak\\onedrive\\desktop\\langchain\\venv\\lib\\site-packages (from requests) (2.5.0)\n",
      "Requirement already satisfied: certifi>=2017.4.17 in c:\\users\\saarthak\\onedrive\\desktop\\langchain\\venv\\lib\\site-packages (from requests) (2025.7.14)\n"
     ]
    }
   ],
   "source": [
    "!pip install requests\n"
   ]
  },
  {
   "cell_type": "code",
   "execution_count": 24,
   "id": "f37f9659",
   "metadata": {},
   "outputs": [
    {
     "name": "stdout",
     "output_type": "stream",
     "text": [
      "{'data': {'id': '1718516288908296193', 'name': 'Bhajan Marg', 'username': 'RadhaKeliKunj'}}\n"
     ]
    }
   ],
   "source": [
    "import requests\n",
    "\n",
    "bearer_token = \"AAAAAAAAAAAAAAAAAAAAAEMg3QEAAAAACNcBdRngnIj3sLK8bFZNMRLnNrE%3DYJbFBAPbzXPvd1STAvTWI4AyckEQKQj0LrPNVW4CgONWZEUT5V\"  # Replace with your actual bearer token\n",
    "username = \"RadhaKeliKunj\"\n",
    "user_url = f\"https://api.twitter.com/2/users/by/username/{username}\"\n",
    "\n",
    "headers = {\n",
    "    \"Authorization\": f\"Bearer {bearer_token}\"\n",
    "}\n",
    "\n",
    "response = requests.get(user_url, headers=headers)\n",
    "\n",
    "if response.status_code == 200:\n",
    "    user_data = response.json()\n",
    "    print(user_data)\n",
    "else:\n",
    "    print(\"Failed to fetch user:\", response.status_code, response.text)\n"
   ]
  },
  {
   "cell_type": "code",
   "execution_count": 28,
   "id": "0fbcb992",
   "metadata": {},
   "outputs": [
    {
     "ename": "HTTPError",
     "evalue": "429 Client Error: Too Many Requests for url: https://api.twitter.com/2/users/by/username/RadhaKeliKunj",
     "output_type": "error",
     "traceback": [
      "\u001b[1;31m---------------------------------------------------------------------------\u001b[0m",
      "\u001b[1;31mHTTPError\u001b[0m                                 Traceback (most recent call last)",
      "Cell \u001b[1;32mIn[28], line 43\u001b[0m\n\u001b[0;32m     41\u001b[0m \u001b[38;5;28;01mif\u001b[39;00m \u001b[38;5;18m__name__\u001b[39m \u001b[38;5;241m==\u001b[39m \u001b[38;5;124m\"\u001b[39m\u001b[38;5;124m__main__\u001b[39m\u001b[38;5;124m\"\u001b[39m:\n\u001b[0;32m     42\u001b[0m     username \u001b[38;5;241m=\u001b[39m \u001b[38;5;124m\"\u001b[39m\u001b[38;5;124mRadhaKeliKunj\u001b[39m\u001b[38;5;124m\"\u001b[39m  \u001b[38;5;66;03m# Replace with the username you want\u001b[39;00m\n\u001b[1;32m---> 43\u001b[0m     user_id \u001b[38;5;241m=\u001b[39m \u001b[43mget_user_id\u001b[49m\u001b[43m(\u001b[49m\u001b[43musername\u001b[49m\u001b[43m)\u001b[49m\n\u001b[0;32m     44\u001b[0m     tweets \u001b[38;5;241m=\u001b[39m get_user_tweets(user_id)\n\u001b[0;32m     46\u001b[0m     \u001b[38;5;28;01mfor\u001b[39;00m i, tweet \u001b[38;5;129;01min\u001b[39;00m \u001b[38;5;28menumerate\u001b[39m(tweets, \u001b[38;5;241m1\u001b[39m):\n",
      "Cell \u001b[1;32mIn[28], line 14\u001b[0m, in \u001b[0;36mget_user_id\u001b[1;34m(username)\u001b[0m\n\u001b[0;32m     12\u001b[0m url \u001b[38;5;241m=\u001b[39m \u001b[38;5;124mf\u001b[39m\u001b[38;5;124m\"\u001b[39m\u001b[38;5;124mhttps://api.twitter.com/2/users/by/username/\u001b[39m\u001b[38;5;132;01m{\u001b[39;00musername\u001b[38;5;132;01m}\u001b[39;00m\u001b[38;5;124m\"\u001b[39m\n\u001b[0;32m     13\u001b[0m response \u001b[38;5;241m=\u001b[39m requests\u001b[38;5;241m.\u001b[39mget(url, headers\u001b[38;5;241m=\u001b[39mcreate_headers())\n\u001b[1;32m---> 14\u001b[0m \u001b[43mresponse\u001b[49m\u001b[38;5;241;43m.\u001b[39;49m\u001b[43mraise_for_status\u001b[49m\u001b[43m(\u001b[49m\u001b[43m)\u001b[49m\n\u001b[0;32m     15\u001b[0m \u001b[38;5;28;01mreturn\u001b[39;00m response\u001b[38;5;241m.\u001b[39mjson()[\u001b[38;5;124m'\u001b[39m\u001b[38;5;124mdata\u001b[39m\u001b[38;5;124m'\u001b[39m][\u001b[38;5;124m'\u001b[39m\u001b[38;5;124mid\u001b[39m\u001b[38;5;124m'\u001b[39m]\n",
      "File \u001b[1;32mc:\\Users\\Saarthak\\OneDrive\\Desktop\\Langchain\\venv\\lib\\site-packages\\requests\\models.py:1026\u001b[0m, in \u001b[0;36mResponse.raise_for_status\u001b[1;34m(self)\u001b[0m\n\u001b[0;32m   1021\u001b[0m     http_error_msg \u001b[38;5;241m=\u001b[39m (\n\u001b[0;32m   1022\u001b[0m         \u001b[38;5;124mf\u001b[39m\u001b[38;5;124m\"\u001b[39m\u001b[38;5;132;01m{\u001b[39;00m\u001b[38;5;28mself\u001b[39m\u001b[38;5;241m.\u001b[39mstatus_code\u001b[38;5;132;01m}\u001b[39;00m\u001b[38;5;124m Server Error: \u001b[39m\u001b[38;5;132;01m{\u001b[39;00mreason\u001b[38;5;132;01m}\u001b[39;00m\u001b[38;5;124m for url: \u001b[39m\u001b[38;5;132;01m{\u001b[39;00m\u001b[38;5;28mself\u001b[39m\u001b[38;5;241m.\u001b[39murl\u001b[38;5;132;01m}\u001b[39;00m\u001b[38;5;124m\"\u001b[39m\n\u001b[0;32m   1023\u001b[0m     )\n\u001b[0;32m   1025\u001b[0m \u001b[38;5;28;01mif\u001b[39;00m http_error_msg:\n\u001b[1;32m-> 1026\u001b[0m     \u001b[38;5;28;01mraise\u001b[39;00m HTTPError(http_error_msg, response\u001b[38;5;241m=\u001b[39m\u001b[38;5;28mself\u001b[39m)\n",
      "\u001b[1;31mHTTPError\u001b[0m: 429 Client Error: Too Many Requests for url: https://api.twitter.com/2/users/by/username/RadhaKeliKunj"
     ]
    }
   ],
   "source": [
    "import requests\n",
    "\n",
    "# Your Twitter Bearer Token here\n",
    "BEARER_TOKEN = \"AAAAAAAAAAAAAAAAAAAAAEMg3QEAAAAACNcBdRngnIj3sLK8bFZNMRLnNrE%3DYJbFBAPbzXPvd1STAvTWI4AyckEQKQj0LrPNVW4CgONWZEUT5V\"\n",
    "\n",
    "def create_headers():\n",
    "    return {\n",
    "        \"Authorization\": f\"Bearer {BEARER_TOKEN}\"\n",
    "    }\n",
    "\n",
    "def get_user_id(username):\n",
    "    url = f\"https://api.twitter.com/2/users/by/username/{username}\"\n",
    "    response = requests.get(url, headers=create_headers())\n",
    "    response.raise_for_status()\n",
    "    return response.json()['data']['id']\n",
    "\n",
    "def get_user_tweets(user_id, max_results=100):\n",
    "    tweets = []\n",
    "    url = f\"https://api.twitter.com/2/users/{user_id}/tweets\"\n",
    "    params = {\n",
    "        \"max_results\": max_results,\n",
    "        \"tweet.fields\": \"created_at,text\",\n",
    "    }\n",
    "\n",
    "    while True:\n",
    "        response = requests.get(url, headers=create_headers(), params=params)\n",
    "        response.raise_for_status()\n",
    "        data = response.json()\n",
    "\n",
    "        tweets.extend(data.get(\"data\", []))\n",
    "\n",
    "        meta = data.get(\"meta\", {})\n",
    "        if \"next_token\" in meta and len(tweets) < 500:\n",
    "            params[\"pagination_token\"] = meta[\"next_token\"]\n",
    "        else:\n",
    "            break\n",
    "\n",
    "    return tweets[:500]  # Cap at 500 for Free Tier\n",
    "\n",
    "# Example usage\n",
    "if __name__ == \"__main__\":\n",
    "    username = \"RadhaKeliKunj\"  # Replace with the username you want\n",
    "    user_id = get_user_id(username)\n",
    "    tweets = get_user_tweets(user_id)\n",
    "\n",
    "    for i, tweet in enumerate(tweets, 1):\n",
    "        print(f\"{i}. {tweet['created_at']}: {tweet['text']}\\n\")\n"
   ]
  },
  {
   "cell_type": "code",
   "execution_count": 33,
   "id": "95fe488e",
   "metadata": {},
   "outputs": [
    {
     "data": {
      "text/plain": [
       "['9. भगवान पर भरोसा रखें\\n\\nप्रभु सब कुछ देख रहे हैं — \\n\\nउनका नाम जपते रहें, और अपने कर्म करते रहें।\\n\\n\"मेरे बस में कुछ नहीं, \\nप्रभु के बस में सब कुछ है\"',\n",
       " '8. जितेन्द्रिय जीवन \\n\\nइन्द्रियों पर नियन्त्रण, आकर्षणों से दूरी।\\n\\n\"अब तक जो हुआ, सो हुआ।\"\\n\\nअब इन पाँच शत्रुओं—\\n\\nकाम, क्रोध, लोभ, मोह, अहंकार, ईर्ष्या —\\n\\nकी गुलामी से मुक्त हो जाएँ।',\n",
       " '7. शास्त्रों के शासन को पूर्ण रूप से स्वीकार करो\\n\\nकेवल उनकी बातों को सुनना नहीं, बल्कि\\n\\nउनके आदेशों को जीवन में उतारना भी है।',\n",
       " '6. गप्पे मारना, फ़ालतू चर्चा\\n\\nइनमें समय व्यर्थ ना करें\\n\\nव्यर्थ की बातें मन को अशुद्ध और चंचल बनाती हैं।',\n",
       " '5. नियमों का पालन दृढ़ता से करें\\n\\nदिनचर्या (जप, उठना, आहार) को बनाए रखें\\n\\nआलस्य या इच्छा से अपने नियमों को ना तोड़ें',\n",
       " '4. अपनी वाणी में संयम रखें\\n\\nक्रोध या कटाक्ष से वाणी को अशुद्ध न करें',\n",
       " '3. सम्मान या पद की इच्छा न रखें\\n\\nदूसरों को छोटा न समझें, चाहे वो कोई सेवक ही क्यों ना हो',\n",
       " '2. हर किसी को सम्मान दें\\n\\n• किसी की भी निंदा करने से बचें\\n\\n• तुलना करने से बचें — सबको प्रभु का अंश मानें',\n",
       " '1. केवल बाहर से त्यागी बनने की कोशिश न करें\\n\\nभीतर संग्रह, स्वाद, मान की इच्छा न रखें',\n",
       " 'जीवन को बदलने के लिए सरल दैनिक उपाय\\n\\nSimple Daily Tips to TRANSFORM Your Life https://t.co/tyoDsiotEF']"
      ]
     },
     "execution_count": 33,
     "metadata": {},
     "output_type": "execute_result"
    }
   ],
   "source": [
    "tweets"
   ]
  },
  {
   "cell_type": "code",
   "execution_count": 32,
   "id": "6f7322a4",
   "metadata": {},
   "outputs": [
    {
     "ename": "Exception",
     "evalue": "User lookup failed: {'title': 'Too Many Requests', 'detail': 'Too Many Requests', 'type': 'about:blank', 'status': 429}",
     "output_type": "error",
     "traceback": [
      "\u001b[1;31m---------------------------------------------------------------------------\u001b[0m",
      "\u001b[1;31mException\u001b[0m                                 Traceback (most recent call last)",
      "Cell \u001b[1;32mIn[32], line 40\u001b[0m\n\u001b[0;32m     38\u001b[0m \u001b[38;5;28;01mif\u001b[39;00m \u001b[38;5;18m__name__\u001b[39m \u001b[38;5;241m==\u001b[39m \u001b[38;5;124m\"\u001b[39m\u001b[38;5;124m__main__\u001b[39m\u001b[38;5;124m\"\u001b[39m:\n\u001b[0;32m     39\u001b[0m     username \u001b[38;5;241m=\u001b[39m \u001b[38;5;124m\"\u001b[39m\u001b[38;5;124mRadhaKeliKunj\u001b[39m\u001b[38;5;124m\"\u001b[39m\n\u001b[1;32m---> 40\u001b[0m     tweets \u001b[38;5;241m=\u001b[39m \u001b[43mfetch_tweets\u001b[49m\u001b[43m(\u001b[49m\u001b[43musername\u001b[49m\u001b[43m,\u001b[49m\u001b[43m \u001b[49m\u001b[38;5;241;43m10\u001b[39;49m\u001b[43m)\u001b[49m\n\u001b[0;32m     41\u001b[0m     \u001b[38;5;28;01mfor\u001b[39;00m i, tweet \u001b[38;5;129;01min\u001b[39;00m \u001b[38;5;28menumerate\u001b[39m(tweets, \u001b[38;5;241m1\u001b[39m):\n\u001b[0;32m     42\u001b[0m         \u001b[38;5;28mprint\u001b[39m(\u001b[38;5;124mf\u001b[39m\u001b[38;5;124m\"\u001b[39m\u001b[38;5;132;01m{\u001b[39;00mi\u001b[38;5;132;01m}\u001b[39;00m\u001b[38;5;124m. \u001b[39m\u001b[38;5;132;01m{\u001b[39;00mtweet\u001b[38;5;132;01m}\u001b[39;00m\u001b[38;5;124m\"\u001b[39m)\n",
      "Cell \u001b[1;32mIn[32], line 18\u001b[0m, in \u001b[0;36mfetch_tweets\u001b[1;34m(username, max_results)\u001b[0m\n\u001b[0;32m     15\u001b[0m user_response \u001b[38;5;241m=\u001b[39m requests\u001b[38;5;241m.\u001b[39mget(user_url, headers\u001b[38;5;241m=\u001b[39mcreate_headers())\n\u001b[0;32m     17\u001b[0m \u001b[38;5;28;01mif\u001b[39;00m user_response\u001b[38;5;241m.\u001b[39mstatus_code \u001b[38;5;241m!=\u001b[39m \u001b[38;5;241m200\u001b[39m:\n\u001b[1;32m---> 18\u001b[0m     \u001b[38;5;28;01mraise\u001b[39;00m \u001b[38;5;167;01mException\u001b[39;00m(\u001b[38;5;124mf\u001b[39m\u001b[38;5;124m\"\u001b[39m\u001b[38;5;124mUser lookup failed: \u001b[39m\u001b[38;5;132;01m{\u001b[39;00muser_response\u001b[38;5;241m.\u001b[39mjson()\u001b[38;5;132;01m}\u001b[39;00m\u001b[38;5;124m\"\u001b[39m)\n\u001b[0;32m     20\u001b[0m user_id \u001b[38;5;241m=\u001b[39m user_response\u001b[38;5;241m.\u001b[39mjson()[\u001b[38;5;124m'\u001b[39m\u001b[38;5;124mdata\u001b[39m\u001b[38;5;124m'\u001b[39m][\u001b[38;5;124m'\u001b[39m\u001b[38;5;124mid\u001b[39m\u001b[38;5;124m'\u001b[39m]\n\u001b[0;32m     22\u001b[0m \u001b[38;5;66;03m# Step 2: Get tweets from user ID\u001b[39;00m\n",
      "\u001b[1;31mException\u001b[0m: User lookup failed: {'title': 'Too Many Requests', 'detail': 'Too Many Requests', 'type': 'about:blank', 'status': 429}"
     ]
    }
   ],
   "source": [
    "import requests\n",
    "\n",
    "# Replace with your Bearer Token\n",
    "BEARER_TOKEN = \"AAAAAAAAAAAAAAAAAAAAAEMg3QEAAAAACNcBdRngnIj3sLK8bFZNMRLnNrE%3DYJbFBAPbzXPvd1STAvTWI4AyckEQKQj0LrPNVW4CgONWZEUT5V\"\n",
    "\n",
    "def create_headers():\n",
    "    return {\n",
    "        \"Authorization\": f\"Bearer {BEARER_TOKEN}\",\n",
    "        \"User-Agent\": \"v2UserTweetsPython\"\n",
    "    }\n",
    "\n",
    "def fetch_tweets(username, max_results=10):\n",
    "    # Step 1: Get user ID from username\n",
    "    user_url = f\"https://api.twitter.com/2/users/by/username/{username}\"\n",
    "    user_response = requests.get(user_url, headers=create_headers())\n",
    "\n",
    "    if user_response.status_code != 200:\n",
    "        raise Exception(f\"User lookup failed: {user_response.json()}\")\n",
    "\n",
    "    user_id = user_response.json()['data']['id']\n",
    "\n",
    "    # Step 2: Get tweets from user ID\n",
    "    tweets_url = f\"https://api.twitter.com/2/users/{user_id}/tweets\"\n",
    "    params = {\n",
    "        \"max_results\": max_results,\n",
    "        \"tweet.fields\": \"created_at,text\"\n",
    "    }\n",
    "\n",
    "    tweet_response = requests.get(tweets_url, headers=create_headers(), params=params)\n",
    "\n",
    "    if tweet_response.status_code != 200:\n",
    "        raise Exception(f\"Tweet lookup failed: {tweet_response.json()}\")\n",
    "\n",
    "    tweets = tweet_response.json().get('data', [])\n",
    "    return [tweet['text'] for tweet in tweets]\n",
    "\n",
    "# Example usage\n",
    "if __name__ == \"__main__\":\n",
    "    username = \"RadhaKeliKunj\"\n",
    "    tweets = fetch_tweets(username, 10)\n",
    "    for i, tweet in enumerate(tweets, 1):\n",
    "        print(f\"{i}. {tweet}\")\n"
   ]
  },
  {
   "cell_type": "code",
   "execution_count": 3,
   "id": "3e69d096",
   "metadata": {},
   "outputs": [],
   "source": [
    "import os\n",
    "\n",
    "# Remove problematic files if they exist\n",
    "try:\n",
    "    os.remove(\"youtube_transcript_api.py\")\n",
    "except FileNotFoundError:\n",
    "    pass\n",
    "\n",
    "try:\n",
    "    import shutil\n",
    "    shutil.rmtree(\"__pycache__\")\n",
    "except FileNotFoundError:\n",
    "    pass\n"
   ]
  },
  {
   "cell_type": "code",
   "execution_count": 3,
   "id": "0c29d765",
   "metadata": {},
   "outputs": [
    {
     "name": "stdout",
     "output_type": "stream",
     "text": [
      "Requirement already satisfied: youtube-transcript-api in c:\\users\\saarthak\\onedrive\\desktop\\langchain\\venv\\lib\\site-packages (1.2.1)\n",
      "Requirement already satisfied: defusedxml<0.8.0,>=0.7.1 in c:\\users\\saarthak\\onedrive\\desktop\\langchain\\venv\\lib\\site-packages (from youtube-transcript-api) (0.7.1)\n",
      "Requirement already satisfied: requests in c:\\users\\saarthak\\onedrive\\desktop\\langchain\\venv\\lib\\site-packages (from youtube-transcript-api) (2.32.4)\n",
      "Requirement already satisfied: charset_normalizer<4,>=2 in c:\\users\\saarthak\\onedrive\\desktop\\langchain\\venv\\lib\\site-packages (from requests->youtube-transcript-api) (3.4.2)\n",
      "Requirement already satisfied: idna<4,>=2.5 in c:\\users\\saarthak\\onedrive\\desktop\\langchain\\venv\\lib\\site-packages (from requests->youtube-transcript-api) (3.10)\n",
      "Requirement already satisfied: urllib3<3,>=1.21.1 in c:\\users\\saarthak\\onedrive\\desktop\\langchain\\venv\\lib\\site-packages (from requests->youtube-transcript-api) (2.5.0)\n",
      "Requirement already satisfied: certifi>=2017.4.17 in c:\\users\\saarthak\\onedrive\\desktop\\langchain\\venv\\lib\\site-packages (from requests->youtube-transcript-api) (2025.7.14)\n"
     ]
    }
   ],
   "source": [
    "!pip install youtube-transcript-api --user\n"
   ]
  },
  {
   "cell_type": "code",
   "execution_count": 4,
   "id": "de94197d",
   "metadata": {},
   "outputs": [
    {
     "ename": "AttributeError",
     "evalue": "type object 'YouTubeTranscriptApi' has no attribute 'get_transcript'",
     "output_type": "error",
     "traceback": [
      "\u001b[1;31m---------------------------------------------------------------------------\u001b[0m",
      "\u001b[1;31mAttributeError\u001b[0m                            Traceback (most recent call last)",
      "Cell \u001b[1;32mIn[4], line 4\u001b[0m\n\u001b[0;32m      1\u001b[0m \u001b[38;5;28;01mfrom\u001b[39;00m\u001b[38;5;250m \u001b[39m\u001b[38;5;21;01myoutube_transcript_api\u001b[39;00m\u001b[38;5;250m \u001b[39m\u001b[38;5;28;01mimport\u001b[39;00m YouTubeTranscriptApi \n\u001b[0;32m      3\u001b[0m video_id \u001b[38;5;241m=\u001b[39m \u001b[38;5;124m\"\u001b[39m\u001b[38;5;124mAh2Zf1Vi77o\u001b[39m\u001b[38;5;124m\"\u001b[39m\n\u001b[1;32m----> 4\u001b[0m transcript_list \u001b[38;5;241m=\u001b[39m \u001b[43mYouTubeTranscriptApi\u001b[49m\u001b[38;5;241;43m.\u001b[39;49m\u001b[43mget_transcript\u001b[49m(video_id)\n\u001b[0;32m      5\u001b[0m \u001b[38;5;28mprint\u001b[39m(transcript_list)\n\u001b[0;32m      6\u001b[0m \u001b[38;5;28;01mtry\u001b[39;00m:\n",
      "\u001b[1;31mAttributeError\u001b[0m: type object 'YouTubeTranscriptApi' has no attribute 'get_transcript'"
     ]
    }
   ],
   "source": [
    "from youtube_transcript_api import YouTubeTranscriptApi \n",
    "\n",
    "video_id = \"Ah2Zf1Vi77o\"\n",
    "transcript_list = YouTubeTranscriptApi.get_transcript(video_id)\n",
    "print(transcript_list)\n",
    "try:\n",
    "    transcript_list = YouTubeTranscriptApi.list_transcripts(video_id)\n",
    "    for transcript in transcript_list:\n",
    "        print(\"Available language:\", transcript.language_code)\n",
    "except Exception as e:\n",
    "    print(\"Error:\", e)\n"
   ]
  },
  {
   "cell_type": "code",
   "execution_count": 14,
   "id": "140d8460",
   "metadata": {},
   "outputs": [
    {
     "ename": "ConnectionError",
     "evalue": "('Connection aborted.', ConnectionResetError(10054, 'An existing connection was forcibly closed by the remote host', None, 10054, None))",
     "output_type": "error",
     "traceback": [
      "\u001b[1;31m---------------------------------------------------------------------------\u001b[0m",
      "\u001b[1;31mConnectionResetError\u001b[0m                      Traceback (most recent call last)",
      "File \u001b[1;32mc:\\Users\\Saarthak\\OneDrive\\Desktop\\Langchain\\venv\\lib\\site-packages\\urllib3\\connectionpool.py:787\u001b[0m, in \u001b[0;36mHTTPConnectionPool.urlopen\u001b[1;34m(self, method, url, body, headers, retries, redirect, assert_same_host, timeout, pool_timeout, release_conn, chunked, body_pos, preload_content, decode_content, **response_kw)\u001b[0m\n\u001b[0;32m    786\u001b[0m \u001b[38;5;66;03m# Make the request on the HTTPConnection object\u001b[39;00m\n\u001b[1;32m--> 787\u001b[0m response \u001b[38;5;241m=\u001b[39m \u001b[38;5;28mself\u001b[39m\u001b[38;5;241m.\u001b[39m_make_request(\n\u001b[0;32m    788\u001b[0m     conn,\n\u001b[0;32m    789\u001b[0m     method,\n\u001b[0;32m    790\u001b[0m     url,\n\u001b[0;32m    791\u001b[0m     timeout\u001b[38;5;241m=\u001b[39mtimeout_obj,\n\u001b[0;32m    792\u001b[0m     body\u001b[38;5;241m=\u001b[39mbody,\n\u001b[0;32m    793\u001b[0m     headers\u001b[38;5;241m=\u001b[39mheaders,\n\u001b[0;32m    794\u001b[0m     chunked\u001b[38;5;241m=\u001b[39mchunked,\n\u001b[0;32m    795\u001b[0m     retries\u001b[38;5;241m=\u001b[39mretries,\n\u001b[0;32m    796\u001b[0m     response_conn\u001b[38;5;241m=\u001b[39mresponse_conn,\n\u001b[0;32m    797\u001b[0m     preload_content\u001b[38;5;241m=\u001b[39mpreload_content,\n\u001b[0;32m    798\u001b[0m     decode_content\u001b[38;5;241m=\u001b[39mdecode_content,\n\u001b[0;32m    799\u001b[0m     \u001b[38;5;241m*\u001b[39m\u001b[38;5;241m*\u001b[39mresponse_kw,\n\u001b[0;32m    800\u001b[0m )\n\u001b[0;32m    802\u001b[0m \u001b[38;5;66;03m# Everything went great!\u001b[39;00m\n",
      "File \u001b[1;32mc:\\Users\\Saarthak\\OneDrive\\Desktop\\Langchain\\venv\\lib\\site-packages\\urllib3\\connectionpool.py:488\u001b[0m, in \u001b[0;36mHTTPConnectionPool._make_request\u001b[1;34m(self, conn, method, url, body, headers, retries, timeout, chunked, response_conn, preload_content, decode_content, enforce_content_length)\u001b[0m\n\u001b[0;32m    487\u001b[0m         new_e \u001b[38;5;241m=\u001b[39m _wrap_proxy_error(new_e, conn\u001b[38;5;241m.\u001b[39mproxy\u001b[38;5;241m.\u001b[39mscheme)\n\u001b[1;32m--> 488\u001b[0m     \u001b[38;5;28;01mraise\u001b[39;00m new_e\n\u001b[0;32m    490\u001b[0m \u001b[38;5;66;03m# conn.request() calls http.client.*.request, not the method in\u001b[39;00m\n\u001b[0;32m    491\u001b[0m \u001b[38;5;66;03m# urllib3.request. It also calls makefile (recv) on the socket.\u001b[39;00m\n",
      "File \u001b[1;32mc:\\Users\\Saarthak\\OneDrive\\Desktop\\Langchain\\venv\\lib\\site-packages\\urllib3\\connectionpool.py:464\u001b[0m, in \u001b[0;36mHTTPConnectionPool._make_request\u001b[1;34m(self, conn, method, url, body, headers, retries, timeout, chunked, response_conn, preload_content, decode_content, enforce_content_length)\u001b[0m\n\u001b[0;32m    463\u001b[0m \u001b[38;5;28;01mtry\u001b[39;00m:\n\u001b[1;32m--> 464\u001b[0m     \u001b[38;5;28;43mself\u001b[39;49m\u001b[38;5;241;43m.\u001b[39;49m\u001b[43m_validate_conn\u001b[49m\u001b[43m(\u001b[49m\u001b[43mconn\u001b[49m\u001b[43m)\u001b[49m\n\u001b[0;32m    465\u001b[0m \u001b[38;5;28;01mexcept\u001b[39;00m (SocketTimeout, BaseSSLError) \u001b[38;5;28;01mas\u001b[39;00m e:\n",
      "File \u001b[1;32mc:\\Users\\Saarthak\\OneDrive\\Desktop\\Langchain\\venv\\lib\\site-packages\\urllib3\\connectionpool.py:1093\u001b[0m, in \u001b[0;36mHTTPSConnectionPool._validate_conn\u001b[1;34m(self, conn)\u001b[0m\n\u001b[0;32m   1092\u001b[0m \u001b[38;5;28;01mif\u001b[39;00m conn\u001b[38;5;241m.\u001b[39mis_closed:\n\u001b[1;32m-> 1093\u001b[0m     \u001b[43mconn\u001b[49m\u001b[38;5;241;43m.\u001b[39;49m\u001b[43mconnect\u001b[49m\u001b[43m(\u001b[49m\u001b[43m)\u001b[49m\n\u001b[0;32m   1095\u001b[0m \u001b[38;5;66;03m# TODO revise this, see https://github.com/urllib3/urllib3/issues/2791\u001b[39;00m\n",
      "File \u001b[1;32mc:\\Users\\Saarthak\\OneDrive\\Desktop\\Langchain\\venv\\lib\\site-packages\\urllib3\\connection.py:790\u001b[0m, in \u001b[0;36mHTTPSConnection.connect\u001b[1;34m(self)\u001b[0m\n\u001b[0;32m    788\u001b[0m server_hostname_rm_dot \u001b[38;5;241m=\u001b[39m server_hostname\u001b[38;5;241m.\u001b[39mrstrip(\u001b[38;5;124m\"\u001b[39m\u001b[38;5;124m.\u001b[39m\u001b[38;5;124m\"\u001b[39m)\n\u001b[1;32m--> 790\u001b[0m sock_and_verified \u001b[38;5;241m=\u001b[39m \u001b[43m_ssl_wrap_socket_and_match_hostname\u001b[49m\u001b[43m(\u001b[49m\n\u001b[0;32m    791\u001b[0m \u001b[43m    \u001b[49m\u001b[43msock\u001b[49m\u001b[38;5;241;43m=\u001b[39;49m\u001b[43msock\u001b[49m\u001b[43m,\u001b[49m\n\u001b[0;32m    792\u001b[0m \u001b[43m    \u001b[49m\u001b[43mcert_reqs\u001b[49m\u001b[38;5;241;43m=\u001b[39;49m\u001b[38;5;28;43mself\u001b[39;49m\u001b[38;5;241;43m.\u001b[39;49m\u001b[43mcert_reqs\u001b[49m\u001b[43m,\u001b[49m\n\u001b[0;32m    793\u001b[0m \u001b[43m    \u001b[49m\u001b[43mssl_version\u001b[49m\u001b[38;5;241;43m=\u001b[39;49m\u001b[38;5;28;43mself\u001b[39;49m\u001b[38;5;241;43m.\u001b[39;49m\u001b[43mssl_version\u001b[49m\u001b[43m,\u001b[49m\n\u001b[0;32m    794\u001b[0m \u001b[43m    \u001b[49m\u001b[43mssl_minimum_version\u001b[49m\u001b[38;5;241;43m=\u001b[39;49m\u001b[38;5;28;43mself\u001b[39;49m\u001b[38;5;241;43m.\u001b[39;49m\u001b[43mssl_minimum_version\u001b[49m\u001b[43m,\u001b[49m\n\u001b[0;32m    795\u001b[0m \u001b[43m    \u001b[49m\u001b[43mssl_maximum_version\u001b[49m\u001b[38;5;241;43m=\u001b[39;49m\u001b[38;5;28;43mself\u001b[39;49m\u001b[38;5;241;43m.\u001b[39;49m\u001b[43mssl_maximum_version\u001b[49m\u001b[43m,\u001b[49m\n\u001b[0;32m    796\u001b[0m \u001b[43m    \u001b[49m\u001b[43mca_certs\u001b[49m\u001b[38;5;241;43m=\u001b[39;49m\u001b[38;5;28;43mself\u001b[39;49m\u001b[38;5;241;43m.\u001b[39;49m\u001b[43mca_certs\u001b[49m\u001b[43m,\u001b[49m\n\u001b[0;32m    797\u001b[0m \u001b[43m    \u001b[49m\u001b[43mca_cert_dir\u001b[49m\u001b[38;5;241;43m=\u001b[39;49m\u001b[38;5;28;43mself\u001b[39;49m\u001b[38;5;241;43m.\u001b[39;49m\u001b[43mca_cert_dir\u001b[49m\u001b[43m,\u001b[49m\n\u001b[0;32m    798\u001b[0m \u001b[43m    \u001b[49m\u001b[43mca_cert_data\u001b[49m\u001b[38;5;241;43m=\u001b[39;49m\u001b[38;5;28;43mself\u001b[39;49m\u001b[38;5;241;43m.\u001b[39;49m\u001b[43mca_cert_data\u001b[49m\u001b[43m,\u001b[49m\n\u001b[0;32m    799\u001b[0m \u001b[43m    \u001b[49m\u001b[43mcert_file\u001b[49m\u001b[38;5;241;43m=\u001b[39;49m\u001b[38;5;28;43mself\u001b[39;49m\u001b[38;5;241;43m.\u001b[39;49m\u001b[43mcert_file\u001b[49m\u001b[43m,\u001b[49m\n\u001b[0;32m    800\u001b[0m \u001b[43m    \u001b[49m\u001b[43mkey_file\u001b[49m\u001b[38;5;241;43m=\u001b[39;49m\u001b[38;5;28;43mself\u001b[39;49m\u001b[38;5;241;43m.\u001b[39;49m\u001b[43mkey_file\u001b[49m\u001b[43m,\u001b[49m\n\u001b[0;32m    801\u001b[0m \u001b[43m    \u001b[49m\u001b[43mkey_password\u001b[49m\u001b[38;5;241;43m=\u001b[39;49m\u001b[38;5;28;43mself\u001b[39;49m\u001b[38;5;241;43m.\u001b[39;49m\u001b[43mkey_password\u001b[49m\u001b[43m,\u001b[49m\n\u001b[0;32m    802\u001b[0m \u001b[43m    \u001b[49m\u001b[43mserver_hostname\u001b[49m\u001b[38;5;241;43m=\u001b[39;49m\u001b[43mserver_hostname_rm_dot\u001b[49m\u001b[43m,\u001b[49m\n\u001b[0;32m    803\u001b[0m \u001b[43m    \u001b[49m\u001b[43mssl_context\u001b[49m\u001b[38;5;241;43m=\u001b[39;49m\u001b[38;5;28;43mself\u001b[39;49m\u001b[38;5;241;43m.\u001b[39;49m\u001b[43mssl_context\u001b[49m\u001b[43m,\u001b[49m\n\u001b[0;32m    804\u001b[0m \u001b[43m    \u001b[49m\u001b[43mtls_in_tls\u001b[49m\u001b[38;5;241;43m=\u001b[39;49m\u001b[43mtls_in_tls\u001b[49m\u001b[43m,\u001b[49m\n\u001b[0;32m    805\u001b[0m \u001b[43m    \u001b[49m\u001b[43massert_hostname\u001b[49m\u001b[38;5;241;43m=\u001b[39;49m\u001b[38;5;28;43mself\u001b[39;49m\u001b[38;5;241;43m.\u001b[39;49m\u001b[43massert_hostname\u001b[49m\u001b[43m,\u001b[49m\n\u001b[0;32m    806\u001b[0m \u001b[43m    \u001b[49m\u001b[43massert_fingerprint\u001b[49m\u001b[38;5;241;43m=\u001b[39;49m\u001b[38;5;28;43mself\u001b[39;49m\u001b[38;5;241;43m.\u001b[39;49m\u001b[43massert_fingerprint\u001b[49m\u001b[43m,\u001b[49m\n\u001b[0;32m    807\u001b[0m \u001b[43m\u001b[49m\u001b[43m)\u001b[49m\n\u001b[0;32m    808\u001b[0m \u001b[38;5;28mself\u001b[39m\u001b[38;5;241m.\u001b[39msock \u001b[38;5;241m=\u001b[39m sock_and_verified\u001b[38;5;241m.\u001b[39msocket\n",
      "File \u001b[1;32mc:\\Users\\Saarthak\\OneDrive\\Desktop\\Langchain\\venv\\lib\\site-packages\\urllib3\\connection.py:969\u001b[0m, in \u001b[0;36m_ssl_wrap_socket_and_match_hostname\u001b[1;34m(sock, cert_reqs, ssl_version, ssl_minimum_version, ssl_maximum_version, cert_file, key_file, key_password, ca_certs, ca_cert_dir, ca_cert_data, assert_hostname, assert_fingerprint, server_hostname, ssl_context, tls_in_tls)\u001b[0m\n\u001b[0;32m    967\u001b[0m         server_hostname \u001b[38;5;241m=\u001b[39m normalized\n\u001b[1;32m--> 969\u001b[0m ssl_sock \u001b[38;5;241m=\u001b[39m \u001b[43mssl_wrap_socket\u001b[49m\u001b[43m(\u001b[49m\n\u001b[0;32m    970\u001b[0m \u001b[43m    \u001b[49m\u001b[43msock\u001b[49m\u001b[38;5;241;43m=\u001b[39;49m\u001b[43msock\u001b[49m\u001b[43m,\u001b[49m\n\u001b[0;32m    971\u001b[0m \u001b[43m    \u001b[49m\u001b[43mkeyfile\u001b[49m\u001b[38;5;241;43m=\u001b[39;49m\u001b[43mkey_file\u001b[49m\u001b[43m,\u001b[49m\n\u001b[0;32m    972\u001b[0m \u001b[43m    \u001b[49m\u001b[43mcertfile\u001b[49m\u001b[38;5;241;43m=\u001b[39;49m\u001b[43mcert_file\u001b[49m\u001b[43m,\u001b[49m\n\u001b[0;32m    973\u001b[0m \u001b[43m    \u001b[49m\u001b[43mkey_password\u001b[49m\u001b[38;5;241;43m=\u001b[39;49m\u001b[43mkey_password\u001b[49m\u001b[43m,\u001b[49m\n\u001b[0;32m    974\u001b[0m \u001b[43m    \u001b[49m\u001b[43mca_certs\u001b[49m\u001b[38;5;241;43m=\u001b[39;49m\u001b[43mca_certs\u001b[49m\u001b[43m,\u001b[49m\n\u001b[0;32m    975\u001b[0m \u001b[43m    \u001b[49m\u001b[43mca_cert_dir\u001b[49m\u001b[38;5;241;43m=\u001b[39;49m\u001b[43mca_cert_dir\u001b[49m\u001b[43m,\u001b[49m\n\u001b[0;32m    976\u001b[0m \u001b[43m    \u001b[49m\u001b[43mca_cert_data\u001b[49m\u001b[38;5;241;43m=\u001b[39;49m\u001b[43mca_cert_data\u001b[49m\u001b[43m,\u001b[49m\n\u001b[0;32m    977\u001b[0m \u001b[43m    \u001b[49m\u001b[43mserver_hostname\u001b[49m\u001b[38;5;241;43m=\u001b[39;49m\u001b[43mserver_hostname\u001b[49m\u001b[43m,\u001b[49m\n\u001b[0;32m    978\u001b[0m \u001b[43m    \u001b[49m\u001b[43mssl_context\u001b[49m\u001b[38;5;241;43m=\u001b[39;49m\u001b[43mcontext\u001b[49m\u001b[43m,\u001b[49m\n\u001b[0;32m    979\u001b[0m \u001b[43m    \u001b[49m\u001b[43mtls_in_tls\u001b[49m\u001b[38;5;241;43m=\u001b[39;49m\u001b[43mtls_in_tls\u001b[49m\u001b[43m,\u001b[49m\n\u001b[0;32m    980\u001b[0m \u001b[43m\u001b[49m\u001b[43m)\u001b[49m\n\u001b[0;32m    982\u001b[0m \u001b[38;5;28;01mtry\u001b[39;00m:\n",
      "File \u001b[1;32mc:\\Users\\Saarthak\\OneDrive\\Desktop\\Langchain\\venv\\lib\\site-packages\\urllib3\\util\\ssl_.py:480\u001b[0m, in \u001b[0;36mssl_wrap_socket\u001b[1;34m(sock, keyfile, certfile, cert_reqs, ca_certs, server_hostname, ssl_version, ciphers, ssl_context, ca_cert_dir, key_password, ca_cert_data, tls_in_tls)\u001b[0m\n\u001b[0;32m    478\u001b[0m context\u001b[38;5;241m.\u001b[39mset_alpn_protocols(ALPN_PROTOCOLS)\n\u001b[1;32m--> 480\u001b[0m ssl_sock \u001b[38;5;241m=\u001b[39m \u001b[43m_ssl_wrap_socket_impl\u001b[49m\u001b[43m(\u001b[49m\u001b[43msock\u001b[49m\u001b[43m,\u001b[49m\u001b[43m \u001b[49m\u001b[43mcontext\u001b[49m\u001b[43m,\u001b[49m\u001b[43m \u001b[49m\u001b[43mtls_in_tls\u001b[49m\u001b[43m,\u001b[49m\u001b[43m \u001b[49m\u001b[43mserver_hostname\u001b[49m\u001b[43m)\u001b[49m\n\u001b[0;32m    481\u001b[0m \u001b[38;5;28;01mreturn\u001b[39;00m ssl_sock\n",
      "File \u001b[1;32mc:\\Users\\Saarthak\\OneDrive\\Desktop\\Langchain\\venv\\lib\\site-packages\\urllib3\\util\\ssl_.py:524\u001b[0m, in \u001b[0;36m_ssl_wrap_socket_impl\u001b[1;34m(sock, ssl_context, tls_in_tls, server_hostname)\u001b[0m\n\u001b[0;32m    522\u001b[0m     \u001b[38;5;28;01mreturn\u001b[39;00m SSLTransport(sock, ssl_context, server_hostname)\n\u001b[1;32m--> 524\u001b[0m \u001b[38;5;28;01mreturn\u001b[39;00m \u001b[43mssl_context\u001b[49m\u001b[38;5;241;43m.\u001b[39;49m\u001b[43mwrap_socket\u001b[49m\u001b[43m(\u001b[49m\u001b[43msock\u001b[49m\u001b[43m,\u001b[49m\u001b[43m \u001b[49m\u001b[43mserver_hostname\u001b[49m\u001b[38;5;241;43m=\u001b[39;49m\u001b[43mserver_hostname\u001b[49m\u001b[43m)\u001b[49m\n",
      "File \u001b[1;32mc:\\Users\\Saarthak\\OneDrive\\Desktop\\Langchain\\venv\\lib\\ssl.py:512\u001b[0m, in \u001b[0;36mSSLContext.wrap_socket\u001b[1;34m(self, sock, server_side, do_handshake_on_connect, suppress_ragged_eofs, server_hostname, session)\u001b[0m\n\u001b[0;32m    506\u001b[0m \u001b[38;5;28;01mdef\u001b[39;00m\u001b[38;5;250m \u001b[39m\u001b[38;5;21mwrap_socket\u001b[39m(\u001b[38;5;28mself\u001b[39m, sock, server_side\u001b[38;5;241m=\u001b[39m\u001b[38;5;28;01mFalse\u001b[39;00m,\n\u001b[0;32m    507\u001b[0m                 do_handshake_on_connect\u001b[38;5;241m=\u001b[39m\u001b[38;5;28;01mTrue\u001b[39;00m,\n\u001b[0;32m    508\u001b[0m                 suppress_ragged_eofs\u001b[38;5;241m=\u001b[39m\u001b[38;5;28;01mTrue\u001b[39;00m,\n\u001b[0;32m    509\u001b[0m                 server_hostname\u001b[38;5;241m=\u001b[39m\u001b[38;5;28;01mNone\u001b[39;00m, session\u001b[38;5;241m=\u001b[39m\u001b[38;5;28;01mNone\u001b[39;00m):\n\u001b[0;32m    510\u001b[0m     \u001b[38;5;66;03m# SSLSocket class handles server_hostname encoding before it calls\u001b[39;00m\n\u001b[0;32m    511\u001b[0m     \u001b[38;5;66;03m# ctx._wrap_socket()\u001b[39;00m\n\u001b[1;32m--> 512\u001b[0m     \u001b[38;5;28;01mreturn\u001b[39;00m \u001b[38;5;28;43mself\u001b[39;49m\u001b[38;5;241;43m.\u001b[39;49m\u001b[43msslsocket_class\u001b[49m\u001b[38;5;241;43m.\u001b[39;49m\u001b[43m_create\u001b[49m\u001b[43m(\u001b[49m\n\u001b[0;32m    513\u001b[0m \u001b[43m        \u001b[49m\u001b[43msock\u001b[49m\u001b[38;5;241;43m=\u001b[39;49m\u001b[43msock\u001b[49m\u001b[43m,\u001b[49m\n\u001b[0;32m    514\u001b[0m \u001b[43m        \u001b[49m\u001b[43mserver_side\u001b[49m\u001b[38;5;241;43m=\u001b[39;49m\u001b[43mserver_side\u001b[49m\u001b[43m,\u001b[49m\n\u001b[0;32m    515\u001b[0m \u001b[43m        \u001b[49m\u001b[43mdo_handshake_on_connect\u001b[49m\u001b[38;5;241;43m=\u001b[39;49m\u001b[43mdo_handshake_on_connect\u001b[49m\u001b[43m,\u001b[49m\n\u001b[0;32m    516\u001b[0m \u001b[43m        \u001b[49m\u001b[43msuppress_ragged_eofs\u001b[49m\u001b[38;5;241;43m=\u001b[39;49m\u001b[43msuppress_ragged_eofs\u001b[49m\u001b[43m,\u001b[49m\n\u001b[0;32m    517\u001b[0m \u001b[43m        \u001b[49m\u001b[43mserver_hostname\u001b[49m\u001b[38;5;241;43m=\u001b[39;49m\u001b[43mserver_hostname\u001b[49m\u001b[43m,\u001b[49m\n\u001b[0;32m    518\u001b[0m \u001b[43m        \u001b[49m\u001b[43mcontext\u001b[49m\u001b[38;5;241;43m=\u001b[39;49m\u001b[38;5;28;43mself\u001b[39;49m\u001b[43m,\u001b[49m\n\u001b[0;32m    519\u001b[0m \u001b[43m        \u001b[49m\u001b[43msession\u001b[49m\u001b[38;5;241;43m=\u001b[39;49m\u001b[43msession\u001b[49m\n\u001b[0;32m    520\u001b[0m \u001b[43m    \u001b[49m\u001b[43m)\u001b[49m\n",
      "File \u001b[1;32mc:\\Users\\Saarthak\\OneDrive\\Desktop\\Langchain\\venv\\lib\\ssl.py:1070\u001b[0m, in \u001b[0;36mSSLSocket._create\u001b[1;34m(cls, sock, server_side, do_handshake_on_connect, suppress_ragged_eofs, server_hostname, context, session)\u001b[0m\n\u001b[0;32m   1069\u001b[0m             \u001b[38;5;28;01mraise\u001b[39;00m \u001b[38;5;167;01mValueError\u001b[39;00m(\u001b[38;5;124m\"\u001b[39m\u001b[38;5;124mdo_handshake_on_connect should not be specified for non-blocking sockets\u001b[39m\u001b[38;5;124m\"\u001b[39m)\n\u001b[1;32m-> 1070\u001b[0m         \u001b[38;5;28;43mself\u001b[39;49m\u001b[38;5;241;43m.\u001b[39;49m\u001b[43mdo_handshake\u001b[49m\u001b[43m(\u001b[49m\u001b[43m)\u001b[49m\n\u001b[0;32m   1071\u001b[0m \u001b[38;5;28;01mexcept\u001b[39;00m (\u001b[38;5;167;01mOSError\u001b[39;00m, \u001b[38;5;167;01mValueError\u001b[39;00m):\n",
      "File \u001b[1;32mc:\\Users\\Saarthak\\OneDrive\\Desktop\\Langchain\\venv\\lib\\ssl.py:1341\u001b[0m, in \u001b[0;36mSSLSocket.do_handshake\u001b[1;34m(self, block)\u001b[0m\n\u001b[0;32m   1340\u001b[0m         \u001b[38;5;28mself\u001b[39m\u001b[38;5;241m.\u001b[39msettimeout(\u001b[38;5;28;01mNone\u001b[39;00m)\n\u001b[1;32m-> 1341\u001b[0m     \u001b[38;5;28;43mself\u001b[39;49m\u001b[38;5;241;43m.\u001b[39;49m\u001b[43m_sslobj\u001b[49m\u001b[38;5;241;43m.\u001b[39;49m\u001b[43mdo_handshake\u001b[49m\u001b[43m(\u001b[49m\u001b[43m)\u001b[49m\n\u001b[0;32m   1342\u001b[0m \u001b[38;5;28;01mfinally\u001b[39;00m:\n",
      "\u001b[1;31mConnectionResetError\u001b[0m: [WinError 10054] An existing connection was forcibly closed by the remote host",
      "\nDuring handling of the above exception, another exception occurred:\n",
      "\u001b[1;31mProtocolError\u001b[0m                             Traceback (most recent call last)",
      "File \u001b[1;32mc:\\Users\\Saarthak\\OneDrive\\Desktop\\Langchain\\venv\\lib\\site-packages\\requests\\adapters.py:667\u001b[0m, in \u001b[0;36mHTTPAdapter.send\u001b[1;34m(self, request, stream, timeout, verify, cert, proxies)\u001b[0m\n\u001b[0;32m    666\u001b[0m \u001b[38;5;28;01mtry\u001b[39;00m:\n\u001b[1;32m--> 667\u001b[0m     resp \u001b[38;5;241m=\u001b[39m \u001b[43mconn\u001b[49m\u001b[38;5;241;43m.\u001b[39;49m\u001b[43murlopen\u001b[49m\u001b[43m(\u001b[49m\n\u001b[0;32m    668\u001b[0m \u001b[43m        \u001b[49m\u001b[43mmethod\u001b[49m\u001b[38;5;241;43m=\u001b[39;49m\u001b[43mrequest\u001b[49m\u001b[38;5;241;43m.\u001b[39;49m\u001b[43mmethod\u001b[49m\u001b[43m,\u001b[49m\n\u001b[0;32m    669\u001b[0m \u001b[43m        \u001b[49m\u001b[43murl\u001b[49m\u001b[38;5;241;43m=\u001b[39;49m\u001b[43murl\u001b[49m\u001b[43m,\u001b[49m\n\u001b[0;32m    670\u001b[0m \u001b[43m        \u001b[49m\u001b[43mbody\u001b[49m\u001b[38;5;241;43m=\u001b[39;49m\u001b[43mrequest\u001b[49m\u001b[38;5;241;43m.\u001b[39;49m\u001b[43mbody\u001b[49m\u001b[43m,\u001b[49m\n\u001b[0;32m    671\u001b[0m \u001b[43m        \u001b[49m\u001b[43mheaders\u001b[49m\u001b[38;5;241;43m=\u001b[39;49m\u001b[43mrequest\u001b[49m\u001b[38;5;241;43m.\u001b[39;49m\u001b[43mheaders\u001b[49m\u001b[43m,\u001b[49m\n\u001b[0;32m    672\u001b[0m \u001b[43m        \u001b[49m\u001b[43mredirect\u001b[49m\u001b[38;5;241;43m=\u001b[39;49m\u001b[38;5;28;43;01mFalse\u001b[39;49;00m\u001b[43m,\u001b[49m\n\u001b[0;32m    673\u001b[0m \u001b[43m        \u001b[49m\u001b[43massert_same_host\u001b[49m\u001b[38;5;241;43m=\u001b[39;49m\u001b[38;5;28;43;01mFalse\u001b[39;49;00m\u001b[43m,\u001b[49m\n\u001b[0;32m    674\u001b[0m \u001b[43m        \u001b[49m\u001b[43mpreload_content\u001b[49m\u001b[38;5;241;43m=\u001b[39;49m\u001b[38;5;28;43;01mFalse\u001b[39;49;00m\u001b[43m,\u001b[49m\n\u001b[0;32m    675\u001b[0m \u001b[43m        \u001b[49m\u001b[43mdecode_content\u001b[49m\u001b[38;5;241;43m=\u001b[39;49m\u001b[38;5;28;43;01mFalse\u001b[39;49;00m\u001b[43m,\u001b[49m\n\u001b[0;32m    676\u001b[0m \u001b[43m        \u001b[49m\u001b[43mretries\u001b[49m\u001b[38;5;241;43m=\u001b[39;49m\u001b[38;5;28;43mself\u001b[39;49m\u001b[38;5;241;43m.\u001b[39;49m\u001b[43mmax_retries\u001b[49m\u001b[43m,\u001b[49m\n\u001b[0;32m    677\u001b[0m \u001b[43m        \u001b[49m\u001b[43mtimeout\u001b[49m\u001b[38;5;241;43m=\u001b[39;49m\u001b[43mtimeout\u001b[49m\u001b[43m,\u001b[49m\n\u001b[0;32m    678\u001b[0m \u001b[43m        \u001b[49m\u001b[43mchunked\u001b[49m\u001b[38;5;241;43m=\u001b[39;49m\u001b[43mchunked\u001b[49m\u001b[43m,\u001b[49m\n\u001b[0;32m    679\u001b[0m \u001b[43m    \u001b[49m\u001b[43m)\u001b[49m\n\u001b[0;32m    681\u001b[0m \u001b[38;5;28;01mexcept\u001b[39;00m (ProtocolError, \u001b[38;5;167;01mOSError\u001b[39;00m) \u001b[38;5;28;01mas\u001b[39;00m err:\n",
      "File \u001b[1;32mc:\\Users\\Saarthak\\OneDrive\\Desktop\\Langchain\\venv\\lib\\site-packages\\urllib3\\connectionpool.py:841\u001b[0m, in \u001b[0;36mHTTPConnectionPool.urlopen\u001b[1;34m(self, method, url, body, headers, retries, redirect, assert_same_host, timeout, pool_timeout, release_conn, chunked, body_pos, preload_content, decode_content, **response_kw)\u001b[0m\n\u001b[0;32m    839\u001b[0m     new_e \u001b[38;5;241m=\u001b[39m ProtocolError(\u001b[38;5;124m\"\u001b[39m\u001b[38;5;124mConnection aborted.\u001b[39m\u001b[38;5;124m\"\u001b[39m, new_e)\n\u001b[1;32m--> 841\u001b[0m retries \u001b[38;5;241m=\u001b[39m \u001b[43mretries\u001b[49m\u001b[38;5;241;43m.\u001b[39;49m\u001b[43mincrement\u001b[49m\u001b[43m(\u001b[49m\n\u001b[0;32m    842\u001b[0m \u001b[43m    \u001b[49m\u001b[43mmethod\u001b[49m\u001b[43m,\u001b[49m\u001b[43m \u001b[49m\u001b[43murl\u001b[49m\u001b[43m,\u001b[49m\u001b[43m \u001b[49m\u001b[43merror\u001b[49m\u001b[38;5;241;43m=\u001b[39;49m\u001b[43mnew_e\u001b[49m\u001b[43m,\u001b[49m\u001b[43m \u001b[49m\u001b[43m_pool\u001b[49m\u001b[38;5;241;43m=\u001b[39;49m\u001b[38;5;28;43mself\u001b[39;49m\u001b[43m,\u001b[49m\u001b[43m \u001b[49m\u001b[43m_stacktrace\u001b[49m\u001b[38;5;241;43m=\u001b[39;49m\u001b[43msys\u001b[49m\u001b[38;5;241;43m.\u001b[39;49m\u001b[43mexc_info\u001b[49m\u001b[43m(\u001b[49m\u001b[43m)\u001b[49m\u001b[43m[\u001b[49m\u001b[38;5;241;43m2\u001b[39;49m\u001b[43m]\u001b[49m\n\u001b[0;32m    843\u001b[0m \u001b[43m\u001b[49m\u001b[43m)\u001b[49m\n\u001b[0;32m    844\u001b[0m retries\u001b[38;5;241m.\u001b[39msleep()\n",
      "File \u001b[1;32mc:\\Users\\Saarthak\\OneDrive\\Desktop\\Langchain\\venv\\lib\\site-packages\\urllib3\\util\\retry.py:474\u001b[0m, in \u001b[0;36mRetry.increment\u001b[1;34m(self, method, url, response, error, _pool, _stacktrace)\u001b[0m\n\u001b[0;32m    473\u001b[0m \u001b[38;5;28;01mif\u001b[39;00m read \u001b[38;5;129;01mis\u001b[39;00m \u001b[38;5;28;01mFalse\u001b[39;00m \u001b[38;5;129;01mor\u001b[39;00m method \u001b[38;5;129;01mis\u001b[39;00m \u001b[38;5;28;01mNone\u001b[39;00m \u001b[38;5;129;01mor\u001b[39;00m \u001b[38;5;129;01mnot\u001b[39;00m \u001b[38;5;28mself\u001b[39m\u001b[38;5;241m.\u001b[39m_is_method_retryable(method):\n\u001b[1;32m--> 474\u001b[0m     \u001b[38;5;28;01mraise\u001b[39;00m \u001b[43mreraise\u001b[49m\u001b[43m(\u001b[49m\u001b[38;5;28;43mtype\u001b[39;49m\u001b[43m(\u001b[49m\u001b[43merror\u001b[49m\u001b[43m)\u001b[49m\u001b[43m,\u001b[49m\u001b[43m \u001b[49m\u001b[43merror\u001b[49m\u001b[43m,\u001b[49m\u001b[43m \u001b[49m\u001b[43m_stacktrace\u001b[49m\u001b[43m)\u001b[49m\n\u001b[0;32m    475\u001b[0m \u001b[38;5;28;01melif\u001b[39;00m read \u001b[38;5;129;01mis\u001b[39;00m \u001b[38;5;129;01mnot\u001b[39;00m \u001b[38;5;28;01mNone\u001b[39;00m:\n",
      "File \u001b[1;32mc:\\Users\\Saarthak\\OneDrive\\Desktop\\Langchain\\venv\\lib\\site-packages\\urllib3\\util\\util.py:38\u001b[0m, in \u001b[0;36mreraise\u001b[1;34m(tp, value, tb)\u001b[0m\n\u001b[0;32m     37\u001b[0m \u001b[38;5;28;01mif\u001b[39;00m value\u001b[38;5;241m.\u001b[39m__traceback__ \u001b[38;5;129;01mis\u001b[39;00m \u001b[38;5;129;01mnot\u001b[39;00m tb:\n\u001b[1;32m---> 38\u001b[0m     \u001b[38;5;28;01mraise\u001b[39;00m value\u001b[38;5;241m.\u001b[39mwith_traceback(tb)\n\u001b[0;32m     39\u001b[0m \u001b[38;5;28;01mraise\u001b[39;00m value\n",
      "File \u001b[1;32mc:\\Users\\Saarthak\\OneDrive\\Desktop\\Langchain\\venv\\lib\\site-packages\\urllib3\\connectionpool.py:787\u001b[0m, in \u001b[0;36mHTTPConnectionPool.urlopen\u001b[1;34m(self, method, url, body, headers, retries, redirect, assert_same_host, timeout, pool_timeout, release_conn, chunked, body_pos, preload_content, decode_content, **response_kw)\u001b[0m\n\u001b[0;32m    786\u001b[0m \u001b[38;5;66;03m# Make the request on the HTTPConnection object\u001b[39;00m\n\u001b[1;32m--> 787\u001b[0m response \u001b[38;5;241m=\u001b[39m \u001b[38;5;28mself\u001b[39m\u001b[38;5;241m.\u001b[39m_make_request(\n\u001b[0;32m    788\u001b[0m     conn,\n\u001b[0;32m    789\u001b[0m     method,\n\u001b[0;32m    790\u001b[0m     url,\n\u001b[0;32m    791\u001b[0m     timeout\u001b[38;5;241m=\u001b[39mtimeout_obj,\n\u001b[0;32m    792\u001b[0m     body\u001b[38;5;241m=\u001b[39mbody,\n\u001b[0;32m    793\u001b[0m     headers\u001b[38;5;241m=\u001b[39mheaders,\n\u001b[0;32m    794\u001b[0m     chunked\u001b[38;5;241m=\u001b[39mchunked,\n\u001b[0;32m    795\u001b[0m     retries\u001b[38;5;241m=\u001b[39mretries,\n\u001b[0;32m    796\u001b[0m     response_conn\u001b[38;5;241m=\u001b[39mresponse_conn,\n\u001b[0;32m    797\u001b[0m     preload_content\u001b[38;5;241m=\u001b[39mpreload_content,\n\u001b[0;32m    798\u001b[0m     decode_content\u001b[38;5;241m=\u001b[39mdecode_content,\n\u001b[0;32m    799\u001b[0m     \u001b[38;5;241m*\u001b[39m\u001b[38;5;241m*\u001b[39mresponse_kw,\n\u001b[0;32m    800\u001b[0m )\n\u001b[0;32m    802\u001b[0m \u001b[38;5;66;03m# Everything went great!\u001b[39;00m\n",
      "File \u001b[1;32mc:\\Users\\Saarthak\\OneDrive\\Desktop\\Langchain\\venv\\lib\\site-packages\\urllib3\\connectionpool.py:488\u001b[0m, in \u001b[0;36mHTTPConnectionPool._make_request\u001b[1;34m(self, conn, method, url, body, headers, retries, timeout, chunked, response_conn, preload_content, decode_content, enforce_content_length)\u001b[0m\n\u001b[0;32m    487\u001b[0m         new_e \u001b[38;5;241m=\u001b[39m _wrap_proxy_error(new_e, conn\u001b[38;5;241m.\u001b[39mproxy\u001b[38;5;241m.\u001b[39mscheme)\n\u001b[1;32m--> 488\u001b[0m     \u001b[38;5;28;01mraise\u001b[39;00m new_e\n\u001b[0;32m    490\u001b[0m \u001b[38;5;66;03m# conn.request() calls http.client.*.request, not the method in\u001b[39;00m\n\u001b[0;32m    491\u001b[0m \u001b[38;5;66;03m# urllib3.request. It also calls makefile (recv) on the socket.\u001b[39;00m\n",
      "File \u001b[1;32mc:\\Users\\Saarthak\\OneDrive\\Desktop\\Langchain\\venv\\lib\\site-packages\\urllib3\\connectionpool.py:464\u001b[0m, in \u001b[0;36mHTTPConnectionPool._make_request\u001b[1;34m(self, conn, method, url, body, headers, retries, timeout, chunked, response_conn, preload_content, decode_content, enforce_content_length)\u001b[0m\n\u001b[0;32m    463\u001b[0m \u001b[38;5;28;01mtry\u001b[39;00m:\n\u001b[1;32m--> 464\u001b[0m     \u001b[38;5;28;43mself\u001b[39;49m\u001b[38;5;241;43m.\u001b[39;49m\u001b[43m_validate_conn\u001b[49m\u001b[43m(\u001b[49m\u001b[43mconn\u001b[49m\u001b[43m)\u001b[49m\n\u001b[0;32m    465\u001b[0m \u001b[38;5;28;01mexcept\u001b[39;00m (SocketTimeout, BaseSSLError) \u001b[38;5;28;01mas\u001b[39;00m e:\n",
      "File \u001b[1;32mc:\\Users\\Saarthak\\OneDrive\\Desktop\\Langchain\\venv\\lib\\site-packages\\urllib3\\connectionpool.py:1093\u001b[0m, in \u001b[0;36mHTTPSConnectionPool._validate_conn\u001b[1;34m(self, conn)\u001b[0m\n\u001b[0;32m   1092\u001b[0m \u001b[38;5;28;01mif\u001b[39;00m conn\u001b[38;5;241m.\u001b[39mis_closed:\n\u001b[1;32m-> 1093\u001b[0m     \u001b[43mconn\u001b[49m\u001b[38;5;241;43m.\u001b[39;49m\u001b[43mconnect\u001b[49m\u001b[43m(\u001b[49m\u001b[43m)\u001b[49m\n\u001b[0;32m   1095\u001b[0m \u001b[38;5;66;03m# TODO revise this, see https://github.com/urllib3/urllib3/issues/2791\u001b[39;00m\n",
      "File \u001b[1;32mc:\\Users\\Saarthak\\OneDrive\\Desktop\\Langchain\\venv\\lib\\site-packages\\urllib3\\connection.py:790\u001b[0m, in \u001b[0;36mHTTPSConnection.connect\u001b[1;34m(self)\u001b[0m\n\u001b[0;32m    788\u001b[0m server_hostname_rm_dot \u001b[38;5;241m=\u001b[39m server_hostname\u001b[38;5;241m.\u001b[39mrstrip(\u001b[38;5;124m\"\u001b[39m\u001b[38;5;124m.\u001b[39m\u001b[38;5;124m\"\u001b[39m)\n\u001b[1;32m--> 790\u001b[0m sock_and_verified \u001b[38;5;241m=\u001b[39m \u001b[43m_ssl_wrap_socket_and_match_hostname\u001b[49m\u001b[43m(\u001b[49m\n\u001b[0;32m    791\u001b[0m \u001b[43m    \u001b[49m\u001b[43msock\u001b[49m\u001b[38;5;241;43m=\u001b[39;49m\u001b[43msock\u001b[49m\u001b[43m,\u001b[49m\n\u001b[0;32m    792\u001b[0m \u001b[43m    \u001b[49m\u001b[43mcert_reqs\u001b[49m\u001b[38;5;241;43m=\u001b[39;49m\u001b[38;5;28;43mself\u001b[39;49m\u001b[38;5;241;43m.\u001b[39;49m\u001b[43mcert_reqs\u001b[49m\u001b[43m,\u001b[49m\n\u001b[0;32m    793\u001b[0m \u001b[43m    \u001b[49m\u001b[43mssl_version\u001b[49m\u001b[38;5;241;43m=\u001b[39;49m\u001b[38;5;28;43mself\u001b[39;49m\u001b[38;5;241;43m.\u001b[39;49m\u001b[43mssl_version\u001b[49m\u001b[43m,\u001b[49m\n\u001b[0;32m    794\u001b[0m \u001b[43m    \u001b[49m\u001b[43mssl_minimum_version\u001b[49m\u001b[38;5;241;43m=\u001b[39;49m\u001b[38;5;28;43mself\u001b[39;49m\u001b[38;5;241;43m.\u001b[39;49m\u001b[43mssl_minimum_version\u001b[49m\u001b[43m,\u001b[49m\n\u001b[0;32m    795\u001b[0m \u001b[43m    \u001b[49m\u001b[43mssl_maximum_version\u001b[49m\u001b[38;5;241;43m=\u001b[39;49m\u001b[38;5;28;43mself\u001b[39;49m\u001b[38;5;241;43m.\u001b[39;49m\u001b[43mssl_maximum_version\u001b[49m\u001b[43m,\u001b[49m\n\u001b[0;32m    796\u001b[0m \u001b[43m    \u001b[49m\u001b[43mca_certs\u001b[49m\u001b[38;5;241;43m=\u001b[39;49m\u001b[38;5;28;43mself\u001b[39;49m\u001b[38;5;241;43m.\u001b[39;49m\u001b[43mca_certs\u001b[49m\u001b[43m,\u001b[49m\n\u001b[0;32m    797\u001b[0m \u001b[43m    \u001b[49m\u001b[43mca_cert_dir\u001b[49m\u001b[38;5;241;43m=\u001b[39;49m\u001b[38;5;28;43mself\u001b[39;49m\u001b[38;5;241;43m.\u001b[39;49m\u001b[43mca_cert_dir\u001b[49m\u001b[43m,\u001b[49m\n\u001b[0;32m    798\u001b[0m \u001b[43m    \u001b[49m\u001b[43mca_cert_data\u001b[49m\u001b[38;5;241;43m=\u001b[39;49m\u001b[38;5;28;43mself\u001b[39;49m\u001b[38;5;241;43m.\u001b[39;49m\u001b[43mca_cert_data\u001b[49m\u001b[43m,\u001b[49m\n\u001b[0;32m    799\u001b[0m \u001b[43m    \u001b[49m\u001b[43mcert_file\u001b[49m\u001b[38;5;241;43m=\u001b[39;49m\u001b[38;5;28;43mself\u001b[39;49m\u001b[38;5;241;43m.\u001b[39;49m\u001b[43mcert_file\u001b[49m\u001b[43m,\u001b[49m\n\u001b[0;32m    800\u001b[0m \u001b[43m    \u001b[49m\u001b[43mkey_file\u001b[49m\u001b[38;5;241;43m=\u001b[39;49m\u001b[38;5;28;43mself\u001b[39;49m\u001b[38;5;241;43m.\u001b[39;49m\u001b[43mkey_file\u001b[49m\u001b[43m,\u001b[49m\n\u001b[0;32m    801\u001b[0m \u001b[43m    \u001b[49m\u001b[43mkey_password\u001b[49m\u001b[38;5;241;43m=\u001b[39;49m\u001b[38;5;28;43mself\u001b[39;49m\u001b[38;5;241;43m.\u001b[39;49m\u001b[43mkey_password\u001b[49m\u001b[43m,\u001b[49m\n\u001b[0;32m    802\u001b[0m \u001b[43m    \u001b[49m\u001b[43mserver_hostname\u001b[49m\u001b[38;5;241;43m=\u001b[39;49m\u001b[43mserver_hostname_rm_dot\u001b[49m\u001b[43m,\u001b[49m\n\u001b[0;32m    803\u001b[0m \u001b[43m    \u001b[49m\u001b[43mssl_context\u001b[49m\u001b[38;5;241;43m=\u001b[39;49m\u001b[38;5;28;43mself\u001b[39;49m\u001b[38;5;241;43m.\u001b[39;49m\u001b[43mssl_context\u001b[49m\u001b[43m,\u001b[49m\n\u001b[0;32m    804\u001b[0m \u001b[43m    \u001b[49m\u001b[43mtls_in_tls\u001b[49m\u001b[38;5;241;43m=\u001b[39;49m\u001b[43mtls_in_tls\u001b[49m\u001b[43m,\u001b[49m\n\u001b[0;32m    805\u001b[0m \u001b[43m    \u001b[49m\u001b[43massert_hostname\u001b[49m\u001b[38;5;241;43m=\u001b[39;49m\u001b[38;5;28;43mself\u001b[39;49m\u001b[38;5;241;43m.\u001b[39;49m\u001b[43massert_hostname\u001b[49m\u001b[43m,\u001b[49m\n\u001b[0;32m    806\u001b[0m \u001b[43m    \u001b[49m\u001b[43massert_fingerprint\u001b[49m\u001b[38;5;241;43m=\u001b[39;49m\u001b[38;5;28;43mself\u001b[39;49m\u001b[38;5;241;43m.\u001b[39;49m\u001b[43massert_fingerprint\u001b[49m\u001b[43m,\u001b[49m\n\u001b[0;32m    807\u001b[0m \u001b[43m\u001b[49m\u001b[43m)\u001b[49m\n\u001b[0;32m    808\u001b[0m \u001b[38;5;28mself\u001b[39m\u001b[38;5;241m.\u001b[39msock \u001b[38;5;241m=\u001b[39m sock_and_verified\u001b[38;5;241m.\u001b[39msocket\n",
      "File \u001b[1;32mc:\\Users\\Saarthak\\OneDrive\\Desktop\\Langchain\\venv\\lib\\site-packages\\urllib3\\connection.py:969\u001b[0m, in \u001b[0;36m_ssl_wrap_socket_and_match_hostname\u001b[1;34m(sock, cert_reqs, ssl_version, ssl_minimum_version, ssl_maximum_version, cert_file, key_file, key_password, ca_certs, ca_cert_dir, ca_cert_data, assert_hostname, assert_fingerprint, server_hostname, ssl_context, tls_in_tls)\u001b[0m\n\u001b[0;32m    967\u001b[0m         server_hostname \u001b[38;5;241m=\u001b[39m normalized\n\u001b[1;32m--> 969\u001b[0m ssl_sock \u001b[38;5;241m=\u001b[39m \u001b[43mssl_wrap_socket\u001b[49m\u001b[43m(\u001b[49m\n\u001b[0;32m    970\u001b[0m \u001b[43m    \u001b[49m\u001b[43msock\u001b[49m\u001b[38;5;241;43m=\u001b[39;49m\u001b[43msock\u001b[49m\u001b[43m,\u001b[49m\n\u001b[0;32m    971\u001b[0m \u001b[43m    \u001b[49m\u001b[43mkeyfile\u001b[49m\u001b[38;5;241;43m=\u001b[39;49m\u001b[43mkey_file\u001b[49m\u001b[43m,\u001b[49m\n\u001b[0;32m    972\u001b[0m \u001b[43m    \u001b[49m\u001b[43mcertfile\u001b[49m\u001b[38;5;241;43m=\u001b[39;49m\u001b[43mcert_file\u001b[49m\u001b[43m,\u001b[49m\n\u001b[0;32m    973\u001b[0m \u001b[43m    \u001b[49m\u001b[43mkey_password\u001b[49m\u001b[38;5;241;43m=\u001b[39;49m\u001b[43mkey_password\u001b[49m\u001b[43m,\u001b[49m\n\u001b[0;32m    974\u001b[0m \u001b[43m    \u001b[49m\u001b[43mca_certs\u001b[49m\u001b[38;5;241;43m=\u001b[39;49m\u001b[43mca_certs\u001b[49m\u001b[43m,\u001b[49m\n\u001b[0;32m    975\u001b[0m \u001b[43m    \u001b[49m\u001b[43mca_cert_dir\u001b[49m\u001b[38;5;241;43m=\u001b[39;49m\u001b[43mca_cert_dir\u001b[49m\u001b[43m,\u001b[49m\n\u001b[0;32m    976\u001b[0m \u001b[43m    \u001b[49m\u001b[43mca_cert_data\u001b[49m\u001b[38;5;241;43m=\u001b[39;49m\u001b[43mca_cert_data\u001b[49m\u001b[43m,\u001b[49m\n\u001b[0;32m    977\u001b[0m \u001b[43m    \u001b[49m\u001b[43mserver_hostname\u001b[49m\u001b[38;5;241;43m=\u001b[39;49m\u001b[43mserver_hostname\u001b[49m\u001b[43m,\u001b[49m\n\u001b[0;32m    978\u001b[0m \u001b[43m    \u001b[49m\u001b[43mssl_context\u001b[49m\u001b[38;5;241;43m=\u001b[39;49m\u001b[43mcontext\u001b[49m\u001b[43m,\u001b[49m\n\u001b[0;32m    979\u001b[0m \u001b[43m    \u001b[49m\u001b[43mtls_in_tls\u001b[49m\u001b[38;5;241;43m=\u001b[39;49m\u001b[43mtls_in_tls\u001b[49m\u001b[43m,\u001b[49m\n\u001b[0;32m    980\u001b[0m \u001b[43m\u001b[49m\u001b[43m)\u001b[49m\n\u001b[0;32m    982\u001b[0m \u001b[38;5;28;01mtry\u001b[39;00m:\n",
      "File \u001b[1;32mc:\\Users\\Saarthak\\OneDrive\\Desktop\\Langchain\\venv\\lib\\site-packages\\urllib3\\util\\ssl_.py:480\u001b[0m, in \u001b[0;36mssl_wrap_socket\u001b[1;34m(sock, keyfile, certfile, cert_reqs, ca_certs, server_hostname, ssl_version, ciphers, ssl_context, ca_cert_dir, key_password, ca_cert_data, tls_in_tls)\u001b[0m\n\u001b[0;32m    478\u001b[0m context\u001b[38;5;241m.\u001b[39mset_alpn_protocols(ALPN_PROTOCOLS)\n\u001b[1;32m--> 480\u001b[0m ssl_sock \u001b[38;5;241m=\u001b[39m \u001b[43m_ssl_wrap_socket_impl\u001b[49m\u001b[43m(\u001b[49m\u001b[43msock\u001b[49m\u001b[43m,\u001b[49m\u001b[43m \u001b[49m\u001b[43mcontext\u001b[49m\u001b[43m,\u001b[49m\u001b[43m \u001b[49m\u001b[43mtls_in_tls\u001b[49m\u001b[43m,\u001b[49m\u001b[43m \u001b[49m\u001b[43mserver_hostname\u001b[49m\u001b[43m)\u001b[49m\n\u001b[0;32m    481\u001b[0m \u001b[38;5;28;01mreturn\u001b[39;00m ssl_sock\n",
      "File \u001b[1;32mc:\\Users\\Saarthak\\OneDrive\\Desktop\\Langchain\\venv\\lib\\site-packages\\urllib3\\util\\ssl_.py:524\u001b[0m, in \u001b[0;36m_ssl_wrap_socket_impl\u001b[1;34m(sock, ssl_context, tls_in_tls, server_hostname)\u001b[0m\n\u001b[0;32m    522\u001b[0m     \u001b[38;5;28;01mreturn\u001b[39;00m SSLTransport(sock, ssl_context, server_hostname)\n\u001b[1;32m--> 524\u001b[0m \u001b[38;5;28;01mreturn\u001b[39;00m \u001b[43mssl_context\u001b[49m\u001b[38;5;241;43m.\u001b[39;49m\u001b[43mwrap_socket\u001b[49m\u001b[43m(\u001b[49m\u001b[43msock\u001b[49m\u001b[43m,\u001b[49m\u001b[43m \u001b[49m\u001b[43mserver_hostname\u001b[49m\u001b[38;5;241;43m=\u001b[39;49m\u001b[43mserver_hostname\u001b[49m\u001b[43m)\u001b[49m\n",
      "File \u001b[1;32mc:\\Users\\Saarthak\\OneDrive\\Desktop\\Langchain\\venv\\lib\\ssl.py:512\u001b[0m, in \u001b[0;36mSSLContext.wrap_socket\u001b[1;34m(self, sock, server_side, do_handshake_on_connect, suppress_ragged_eofs, server_hostname, session)\u001b[0m\n\u001b[0;32m    506\u001b[0m \u001b[38;5;28;01mdef\u001b[39;00m\u001b[38;5;250m \u001b[39m\u001b[38;5;21mwrap_socket\u001b[39m(\u001b[38;5;28mself\u001b[39m, sock, server_side\u001b[38;5;241m=\u001b[39m\u001b[38;5;28;01mFalse\u001b[39;00m,\n\u001b[0;32m    507\u001b[0m                 do_handshake_on_connect\u001b[38;5;241m=\u001b[39m\u001b[38;5;28;01mTrue\u001b[39;00m,\n\u001b[0;32m    508\u001b[0m                 suppress_ragged_eofs\u001b[38;5;241m=\u001b[39m\u001b[38;5;28;01mTrue\u001b[39;00m,\n\u001b[0;32m    509\u001b[0m                 server_hostname\u001b[38;5;241m=\u001b[39m\u001b[38;5;28;01mNone\u001b[39;00m, session\u001b[38;5;241m=\u001b[39m\u001b[38;5;28;01mNone\u001b[39;00m):\n\u001b[0;32m    510\u001b[0m     \u001b[38;5;66;03m# SSLSocket class handles server_hostname encoding before it calls\u001b[39;00m\n\u001b[0;32m    511\u001b[0m     \u001b[38;5;66;03m# ctx._wrap_socket()\u001b[39;00m\n\u001b[1;32m--> 512\u001b[0m     \u001b[38;5;28;01mreturn\u001b[39;00m \u001b[38;5;28;43mself\u001b[39;49m\u001b[38;5;241;43m.\u001b[39;49m\u001b[43msslsocket_class\u001b[49m\u001b[38;5;241;43m.\u001b[39;49m\u001b[43m_create\u001b[49m\u001b[43m(\u001b[49m\n\u001b[0;32m    513\u001b[0m \u001b[43m        \u001b[49m\u001b[43msock\u001b[49m\u001b[38;5;241;43m=\u001b[39;49m\u001b[43msock\u001b[49m\u001b[43m,\u001b[49m\n\u001b[0;32m    514\u001b[0m \u001b[43m        \u001b[49m\u001b[43mserver_side\u001b[49m\u001b[38;5;241;43m=\u001b[39;49m\u001b[43mserver_side\u001b[49m\u001b[43m,\u001b[49m\n\u001b[0;32m    515\u001b[0m \u001b[43m        \u001b[49m\u001b[43mdo_handshake_on_connect\u001b[49m\u001b[38;5;241;43m=\u001b[39;49m\u001b[43mdo_handshake_on_connect\u001b[49m\u001b[43m,\u001b[49m\n\u001b[0;32m    516\u001b[0m \u001b[43m        \u001b[49m\u001b[43msuppress_ragged_eofs\u001b[49m\u001b[38;5;241;43m=\u001b[39;49m\u001b[43msuppress_ragged_eofs\u001b[49m\u001b[43m,\u001b[49m\n\u001b[0;32m    517\u001b[0m \u001b[43m        \u001b[49m\u001b[43mserver_hostname\u001b[49m\u001b[38;5;241;43m=\u001b[39;49m\u001b[43mserver_hostname\u001b[49m\u001b[43m,\u001b[49m\n\u001b[0;32m    518\u001b[0m \u001b[43m        \u001b[49m\u001b[43mcontext\u001b[49m\u001b[38;5;241;43m=\u001b[39;49m\u001b[38;5;28;43mself\u001b[39;49m\u001b[43m,\u001b[49m\n\u001b[0;32m    519\u001b[0m \u001b[43m        \u001b[49m\u001b[43msession\u001b[49m\u001b[38;5;241;43m=\u001b[39;49m\u001b[43msession\u001b[49m\n\u001b[0;32m    520\u001b[0m \u001b[43m    \u001b[49m\u001b[43m)\u001b[49m\n",
      "File \u001b[1;32mc:\\Users\\Saarthak\\OneDrive\\Desktop\\Langchain\\venv\\lib\\ssl.py:1070\u001b[0m, in \u001b[0;36mSSLSocket._create\u001b[1;34m(cls, sock, server_side, do_handshake_on_connect, suppress_ragged_eofs, server_hostname, context, session)\u001b[0m\n\u001b[0;32m   1069\u001b[0m             \u001b[38;5;28;01mraise\u001b[39;00m \u001b[38;5;167;01mValueError\u001b[39;00m(\u001b[38;5;124m\"\u001b[39m\u001b[38;5;124mdo_handshake_on_connect should not be specified for non-blocking sockets\u001b[39m\u001b[38;5;124m\"\u001b[39m)\n\u001b[1;32m-> 1070\u001b[0m         \u001b[38;5;28;43mself\u001b[39;49m\u001b[38;5;241;43m.\u001b[39;49m\u001b[43mdo_handshake\u001b[49m\u001b[43m(\u001b[49m\u001b[43m)\u001b[49m\n\u001b[0;32m   1071\u001b[0m \u001b[38;5;28;01mexcept\u001b[39;00m (\u001b[38;5;167;01mOSError\u001b[39;00m, \u001b[38;5;167;01mValueError\u001b[39;00m):\n",
      "File \u001b[1;32mc:\\Users\\Saarthak\\OneDrive\\Desktop\\Langchain\\venv\\lib\\ssl.py:1341\u001b[0m, in \u001b[0;36mSSLSocket.do_handshake\u001b[1;34m(self, block)\u001b[0m\n\u001b[0;32m   1340\u001b[0m         \u001b[38;5;28mself\u001b[39m\u001b[38;5;241m.\u001b[39msettimeout(\u001b[38;5;28;01mNone\u001b[39;00m)\n\u001b[1;32m-> 1341\u001b[0m     \u001b[38;5;28;43mself\u001b[39;49m\u001b[38;5;241;43m.\u001b[39;49m\u001b[43m_sslobj\u001b[49m\u001b[38;5;241;43m.\u001b[39;49m\u001b[43mdo_handshake\u001b[49m\u001b[43m(\u001b[49m\u001b[43m)\u001b[49m\n\u001b[0;32m   1342\u001b[0m \u001b[38;5;28;01mfinally\u001b[39;00m:\n",
      "\u001b[1;31mProtocolError\u001b[0m: ('Connection aborted.', ConnectionResetError(10054, 'An existing connection was forcibly closed by the remote host', None, 10054, None))",
      "\nDuring handling of the above exception, another exception occurred:\n",
      "\u001b[1;31mConnectionError\u001b[0m                           Traceback (most recent call last)",
      "Cell \u001b[1;32mIn[14], line 42\u001b[0m\n\u001b[0;32m     37\u001b[0m strainer \u001b[38;5;241m=\u001b[39m get_strainer_for_url(url)\n\u001b[0;32m     38\u001b[0m loader \u001b[38;5;241m=\u001b[39m WebBaseLoader(\n\u001b[0;32m     39\u001b[0m     web_paths\u001b[38;5;241m=\u001b[39m(url,),\n\u001b[0;32m     40\u001b[0m     bs_kwargs\u001b[38;5;241m=\u001b[39m\u001b[38;5;28mdict\u001b[39m(parse_only\u001b[38;5;241m=\u001b[39mstrainer) \u001b[38;5;28;01mif\u001b[39;00m strainer \u001b[38;5;28;01melse\u001b[39;00m \u001b[38;5;28mdict\u001b[39m()\n\u001b[0;32m     41\u001b[0m )\n\u001b[1;32m---> 42\u001b[0m docs \u001b[38;5;241m=\u001b[39m \u001b[43mloader\u001b[49m\u001b[38;5;241;43m.\u001b[39;49m\u001b[43mload\u001b[49m\u001b[43m(\u001b[49m\u001b[43m)\u001b[49m\n\u001b[0;32m     43\u001b[0m all_docs\u001b[38;5;241m.\u001b[39mextend(docs)\n",
      "File \u001b[1;32mc:\\Users\\Saarthak\\OneDrive\\Desktop\\Langchain\\venv\\lib\\site-packages\\langchain_core\\document_loaders\\base.py:32\u001b[0m, in \u001b[0;36mBaseLoader.load\u001b[1;34m(self)\u001b[0m\n\u001b[0;32m     30\u001b[0m \u001b[38;5;28;01mdef\u001b[39;00m\u001b[38;5;250m \u001b[39m\u001b[38;5;21mload\u001b[39m(\u001b[38;5;28mself\u001b[39m) \u001b[38;5;241m-\u001b[39m\u001b[38;5;241m>\u001b[39m \u001b[38;5;28mlist\u001b[39m[Document]:\n\u001b[0;32m     31\u001b[0m \u001b[38;5;250m    \u001b[39m\u001b[38;5;124;03m\"\"\"Load data into Document objects.\"\"\"\u001b[39;00m\n\u001b[1;32m---> 32\u001b[0m     \u001b[38;5;28;01mreturn\u001b[39;00m \u001b[38;5;28;43mlist\u001b[39;49m\u001b[43m(\u001b[49m\u001b[38;5;28;43mself\u001b[39;49m\u001b[38;5;241;43m.\u001b[39;49m\u001b[43mlazy_load\u001b[49m\u001b[43m(\u001b[49m\u001b[43m)\u001b[49m\u001b[43m)\u001b[49m\n",
      "File \u001b[1;32mc:\\Users\\Saarthak\\OneDrive\\Desktop\\Langchain\\venv\\lib\\site-packages\\langchain_community\\document_loaders\\web_base.py:375\u001b[0m, in \u001b[0;36mWebBaseLoader.lazy_load\u001b[1;34m(self)\u001b[0m\n\u001b[0;32m    373\u001b[0m \u001b[38;5;250m\u001b[39m\u001b[38;5;124;03m\"\"\"Lazy load text from the url(s) in web_path.\"\"\"\u001b[39;00m\n\u001b[0;32m    374\u001b[0m \u001b[38;5;28;01mfor\u001b[39;00m path \u001b[38;5;129;01min\u001b[39;00m \u001b[38;5;28mself\u001b[39m\u001b[38;5;241m.\u001b[39mweb_paths:\n\u001b[1;32m--> 375\u001b[0m     soup \u001b[38;5;241m=\u001b[39m \u001b[38;5;28;43mself\u001b[39;49m\u001b[38;5;241;43m.\u001b[39;49m\u001b[43m_scrape\u001b[49m\u001b[43m(\u001b[49m\u001b[43mpath\u001b[49m\u001b[43m,\u001b[49m\u001b[43m \u001b[49m\u001b[43mbs_kwargs\u001b[49m\u001b[38;5;241;43m=\u001b[39;49m\u001b[38;5;28;43mself\u001b[39;49m\u001b[38;5;241;43m.\u001b[39;49m\u001b[43mbs_kwargs\u001b[49m\u001b[43m)\u001b[49m\n\u001b[0;32m    376\u001b[0m     text \u001b[38;5;241m=\u001b[39m soup\u001b[38;5;241m.\u001b[39mget_text(\u001b[38;5;241m*\u001b[39m\u001b[38;5;241m*\u001b[39m\u001b[38;5;28mself\u001b[39m\u001b[38;5;241m.\u001b[39mbs_get_text_kwargs)\n\u001b[0;32m    377\u001b[0m     metadata \u001b[38;5;241m=\u001b[39m _build_metadata(soup, path)\n",
      "File \u001b[1;32mc:\\Users\\Saarthak\\OneDrive\\Desktop\\Langchain\\venv\\lib\\site-packages\\langchain_community\\document_loaders\\web_base.py:357\u001b[0m, in \u001b[0;36mWebBaseLoader._scrape\u001b[1;34m(self, url, parser, bs_kwargs)\u001b[0m\n\u001b[0;32m    353\u001b[0m         parser \u001b[38;5;241m=\u001b[39m \u001b[38;5;28mself\u001b[39m\u001b[38;5;241m.\u001b[39mdefault_parser\n\u001b[0;32m    355\u001b[0m \u001b[38;5;28mself\u001b[39m\u001b[38;5;241m.\u001b[39m_check_parser(parser)\n\u001b[1;32m--> 357\u001b[0m html_doc \u001b[38;5;241m=\u001b[39m \u001b[38;5;28mself\u001b[39m\u001b[38;5;241m.\u001b[39msession\u001b[38;5;241m.\u001b[39mget(url, \u001b[38;5;241m*\u001b[39m\u001b[38;5;241m*\u001b[39m\u001b[38;5;28mself\u001b[39m\u001b[38;5;241m.\u001b[39mrequests_kwargs)\n\u001b[0;32m    358\u001b[0m \u001b[38;5;28;01mif\u001b[39;00m \u001b[38;5;28mself\u001b[39m\u001b[38;5;241m.\u001b[39mraise_for_status:\n\u001b[0;32m    359\u001b[0m     html_doc\u001b[38;5;241m.\u001b[39mraise_for_status()\n",
      "File \u001b[1;32mc:\\Users\\Saarthak\\OneDrive\\Desktop\\Langchain\\venv\\lib\\site-packages\\requests\\sessions.py:602\u001b[0m, in \u001b[0;36mSession.get\u001b[1;34m(self, url, **kwargs)\u001b[0m\n\u001b[0;32m    594\u001b[0m \u001b[38;5;250m\u001b[39m\u001b[38;5;124mr\u001b[39m\u001b[38;5;124;03m\"\"\"Sends a GET request. Returns :class:`Response` object.\u001b[39;00m\n\u001b[0;32m    595\u001b[0m \n\u001b[0;32m    596\u001b[0m \u001b[38;5;124;03m:param url: URL for the new :class:`Request` object.\u001b[39;00m\n\u001b[0;32m    597\u001b[0m \u001b[38;5;124;03m:param \\*\\*kwargs: Optional arguments that ``request`` takes.\u001b[39;00m\n\u001b[0;32m    598\u001b[0m \u001b[38;5;124;03m:rtype: requests.Response\u001b[39;00m\n\u001b[0;32m    599\u001b[0m \u001b[38;5;124;03m\"\"\"\u001b[39;00m\n\u001b[0;32m    601\u001b[0m kwargs\u001b[38;5;241m.\u001b[39msetdefault(\u001b[38;5;124m\"\u001b[39m\u001b[38;5;124mallow_redirects\u001b[39m\u001b[38;5;124m\"\u001b[39m, \u001b[38;5;28;01mTrue\u001b[39;00m)\n\u001b[1;32m--> 602\u001b[0m \u001b[38;5;28;01mreturn\u001b[39;00m \u001b[38;5;28mself\u001b[39m\u001b[38;5;241m.\u001b[39mrequest(\u001b[38;5;124m\"\u001b[39m\u001b[38;5;124mGET\u001b[39m\u001b[38;5;124m\"\u001b[39m, url, \u001b[38;5;241m*\u001b[39m\u001b[38;5;241m*\u001b[39mkwargs)\n",
      "File \u001b[1;32mc:\\Users\\Saarthak\\OneDrive\\Desktop\\Langchain\\venv\\lib\\site-packages\\requests\\sessions.py:589\u001b[0m, in \u001b[0;36mSession.request\u001b[1;34m(self, method, url, params, data, headers, cookies, files, auth, timeout, allow_redirects, proxies, hooks, stream, verify, cert, json)\u001b[0m\n\u001b[0;32m    584\u001b[0m send_kwargs \u001b[38;5;241m=\u001b[39m {\n\u001b[0;32m    585\u001b[0m     \u001b[38;5;124m\"\u001b[39m\u001b[38;5;124mtimeout\u001b[39m\u001b[38;5;124m\"\u001b[39m: timeout,\n\u001b[0;32m    586\u001b[0m     \u001b[38;5;124m\"\u001b[39m\u001b[38;5;124mallow_redirects\u001b[39m\u001b[38;5;124m\"\u001b[39m: allow_redirects,\n\u001b[0;32m    587\u001b[0m }\n\u001b[0;32m    588\u001b[0m send_kwargs\u001b[38;5;241m.\u001b[39mupdate(settings)\n\u001b[1;32m--> 589\u001b[0m resp \u001b[38;5;241m=\u001b[39m \u001b[38;5;28mself\u001b[39m\u001b[38;5;241m.\u001b[39msend(prep, \u001b[38;5;241m*\u001b[39m\u001b[38;5;241m*\u001b[39msend_kwargs)\n\u001b[0;32m    591\u001b[0m \u001b[38;5;28;01mreturn\u001b[39;00m resp\n",
      "File \u001b[1;32mc:\\Users\\Saarthak\\OneDrive\\Desktop\\Langchain\\venv\\lib\\site-packages\\requests\\sessions.py:703\u001b[0m, in \u001b[0;36mSession.send\u001b[1;34m(self, request, **kwargs)\u001b[0m\n\u001b[0;32m    700\u001b[0m start \u001b[38;5;241m=\u001b[39m preferred_clock()\n\u001b[0;32m    702\u001b[0m \u001b[38;5;66;03m# Send the request\u001b[39;00m\n\u001b[1;32m--> 703\u001b[0m r \u001b[38;5;241m=\u001b[39m adapter\u001b[38;5;241m.\u001b[39msend(request, \u001b[38;5;241m*\u001b[39m\u001b[38;5;241m*\u001b[39mkwargs)\n\u001b[0;32m    705\u001b[0m \u001b[38;5;66;03m# Total elapsed time of the request (approximately)\u001b[39;00m\n\u001b[0;32m    706\u001b[0m elapsed \u001b[38;5;241m=\u001b[39m preferred_clock() \u001b[38;5;241m-\u001b[39m start\n",
      "File \u001b[1;32mc:\\Users\\Saarthak\\OneDrive\\Desktop\\Langchain\\venv\\lib\\site-packages\\requests\\adapters.py:682\u001b[0m, in \u001b[0;36mHTTPAdapter.send\u001b[1;34m(self, request, stream, timeout, verify, cert, proxies)\u001b[0m\n\u001b[0;32m    667\u001b[0m     resp \u001b[38;5;241m=\u001b[39m conn\u001b[38;5;241m.\u001b[39murlopen(\n\u001b[0;32m    668\u001b[0m         method\u001b[38;5;241m=\u001b[39mrequest\u001b[38;5;241m.\u001b[39mmethod,\n\u001b[0;32m    669\u001b[0m         url\u001b[38;5;241m=\u001b[39murl,\n\u001b[1;32m   (...)\u001b[0m\n\u001b[0;32m    678\u001b[0m         chunked\u001b[38;5;241m=\u001b[39mchunked,\n\u001b[0;32m    679\u001b[0m     )\n\u001b[0;32m    681\u001b[0m \u001b[38;5;28;01mexcept\u001b[39;00m (ProtocolError, \u001b[38;5;167;01mOSError\u001b[39;00m) \u001b[38;5;28;01mas\u001b[39;00m err:\n\u001b[1;32m--> 682\u001b[0m     \u001b[38;5;28;01mraise\u001b[39;00m \u001b[38;5;167;01mConnectionError\u001b[39;00m(err, request\u001b[38;5;241m=\u001b[39mrequest)\n\u001b[0;32m    684\u001b[0m \u001b[38;5;28;01mexcept\u001b[39;00m MaxRetryError \u001b[38;5;28;01mas\u001b[39;00m e:\n\u001b[0;32m    685\u001b[0m     \u001b[38;5;28;01mif\u001b[39;00m \u001b[38;5;28misinstance\u001b[39m(e\u001b[38;5;241m.\u001b[39mreason, ConnectTimeoutError):\n\u001b[0;32m    686\u001b[0m         \u001b[38;5;66;03m# TODO: Remove this in 3.0.0: see #2811\u001b[39;00m\n",
      "\u001b[1;31mConnectionError\u001b[0m: ('Connection aborted.', ConnectionResetError(10054, 'An existing connection was forcibly closed by the remote host', None, 10054, None))"
     ]
    }
   ],
   "source": [
    "import bs4\n",
    "from bs4 import SoupStrainer\n",
    "from langchain.document_loaders import WebBaseLoader\n",
    "from langchain.text_splitter import CharacterTextSplitter\n",
    "from langchain.embeddings import HuggingFaceEmbeddings\n",
    "from langchain.vectorstores import FAISS\n",
    "from langchain.llms import HuggingFaceHub\n",
    "from langchain.chains import RetrievalQA\n",
    "\n",
    "# Domain-specific filters\n",
    "site_strainers = {\n",
    "    \"herzindagi.com\": SoupStrainer(\"p\"),\n",
    "    \"bhaktitak.com\": SoupStrainer(\"p\"),\n",
    "    \"webdunia.com\": SoupStrainer(\"p\"),\n",
    "    \"mygyanalaya.in\": SoupStrainer(\"p\"),\n",
    "    \"parthsawhney.com\": SoupStrainer(\"p\"),\n",
    "    \"x.com/RadhaKeliKunj\":SoupStrainer(\"span\", class_=\"css-1jxf684 r-bcqeeo r-1ttztb7 r-qvutc0 r-poiln3\")\n",
    "    \n",
    "}\n",
    "\n",
    "def get_strainer_for_url(url):\n",
    "    for domain, strainer in site_strainers.items():\n",
    "        if domain in url:\n",
    "            return strainer\n",
    "    return None\n",
    "\n",
    "urls = [\n",
    "    \"https://www.herzindagi.com/society-culture/premanand-ji-maharaj-quotes-life-article-1004822\",\n",
    "    \"https://hindi.webdunia.com/indian-religion-sant-mahatma/premanand-maharaj-ji-ke-pravachan-124022000048_1.html\",\n",
    "    \"https://blogs.mygyanalaya.in/premanand-ji-maharaj-ke-pravachan-mandir-kyon/\",\n",
    "    \"https://www.parthsawhney.com/premanand-ji-maharaj-quotes/\",\n",
    "    \"https://x.com/RadhaKeliKunj\"\n",
    "]\n",
    "\n",
    "all_docs = []\n",
    "for url in urls:\n",
    "    strainer = get_strainer_for_url(url)\n",
    "    loader = WebBaseLoader(\n",
    "        web_paths=(url,),\n",
    "        bs_kwargs=dict(parse_only=strainer) if strainer else dict()\n",
    "    )\n",
    "    docs = loader.load()\n",
    "    all_docs.extend(docs)\n"
   ]
  },
  {
   "cell_type": "code",
   "execution_count": null,
   "id": "08b68579",
   "metadata": {},
   "outputs": [
    {
     "data": {
      "text/plain": [
       "[Document(metadata={'source': 'https://www.herzindagi.com/society-culture/premanand-ji-maharaj-quotes-life-article-1004822'}, page_content='Looking for daily motivation? The teachings of Premanand Ji Maharaj, deeply rooted in devotion to Goddess Radha Rani and Lord Krishna, offer profound insights into the complexities of lifeQuotes by Premanand Ji Maharaj\\n\\n\"No person gives you sorrow; rather, your karma manifests as sorrow through that person.\"\\n\"There\\'s only one way to calm anger... Instead of thinking about what their duty is towards us, we should think about what our duty is towards them.\"\\n\"Chant the Lord\\'s name not by counting, but by immersing yourself in it.\"\\n\"Those whose mouths are devoid of the Lord\\'s name, though alive, are dead in speech.\"\\n\"Do not torment the sorrowful, for they will cry; if the Lord of the sorrowful hears, what will become of you?\"\\n\\nDon\\'t Miss:Top 20+ Ratan Tata Quotes for Inspiration From The Visionary Leader\\n\"Don\\'t think too smugly that no one is watching. When you do wrong, your good deeds are being spent. When your good deeds are exhausted, your current sins and past sins will combine, and no one in the three worlds can save you.\"\\n\"Those who walk the path of truth are inevitably criticised and slandered. One should not be afraid of this. It destroys your bad karma. Where there is criticism and slander for you, your bad karma is destroyed.\"\\n\"Surrender yourself to God. This life, as it is, is given by Him. All the means and resources you have are the effect of His grace. Everything you\\'re enjoying belongs to God. Perform actions with this thought, live life, and it will be blissful.\"\\n\"Protect celibacy. Celibacy is a great nectar element; due to foolishness, people don\\'t pay attention to it.\"\\n\"We receive true love from God. What can a person do, no person can love us because they don\\'t know us, so how can they?\"\\n\"Love is the essence of life. Life is incomplete without love.\"\\n\\n\\n\"Devotion is the means to attain God.\"\\n\"To live life, we must perform actions. While performing actions, we should not worry about the fruit. God alone gives the fruit of karma.\"\\n\"True happiness is in the soul. Happiness is attained only by keeping the mind calm. The mind becomes calm only through devotion to God.\"\\n\"The one who makes others happy is a true human being.\"\\n\"Never give up, because victory is always waiting for you.\"\\n\\nThese quotes from Premanand Ji Maharaj offer a roadmap for navigating life\\'s complexities with grace, faith, and wisdom.Don\\'t Miss:25+ Happy Birthday Wishes For Female Best Friend Who Always Has Your BackFor more such stories, stay tuned to HerZindagiHerzindagi.com is Jagran New Media\\'s gender and lifestyle vertical, catering to women of all age groups, helping them remain updated, on-trend and aware. To improve our performance and understand our readers\\' interests better, we have created this poll. This will take 2 minutes of your time, do help us out with this link.Image Courtesy: @ShriHitPremanandGovindSharanJiMaharaj/ Flickr\\n\\n\\nTake charge of your wellness journey—download the HerZindagi app for daily updates on fitness, beauty, and a healthy lifestyle!GET APP ✕  Our aim is to provide accurate, safe and expert verified information through our articles and social media handles. The remedies, advice and tips mentioned here are for general information only. Please consult your expert before trying any kind of health, beauty, life hacks or astrology related tips. For any feedback or complaint, contact us at compliant_gro@jagrannewmedia.com. More For You10+ Quotes And Teachings Of Guruji Nirmal Singh MaharajLord Khatu Shyam Ji Quotes: 30+ Quotes To Share In The Morning For MotivationFrom Trauma To Transcendence: Using Spirituality To Reclaim Inner Peace15+ Top Lord Krishna Quotes On Love And Relationship To Share With Your PartnerMost SearchedHariyali Teej Date, Timings And HistoryFestival Calendar 2025Tips and Tricks for white clothesAttitude CaptionsHow to grow Curry LeavesTips to Grow Lemon PlantsThis website uses cookies or similar technologies to enhance your browsing experience and provide personalized recommendations. By continuing to use our website, you agree to our Privacy Policy and Cookie Policy.OKFoodStyleEntertainmentWellnessTravelLife & WomenVideoQuizHZ TeamInfluencerFestive RecipeFIGHTBACKThe Daily JagranContact UsAbout UsT&CPrivacy PolicyJoin us on SocialCopyright © 2025 Her ZindagiThis Website Follows The DNPA’s Code Of Conduct For Any Feedback Or Complaint, Email To compliant_gro@jagrannewmedia.com'),\n",
       " Document(metadata={'source': 'https://hindi.webdunia.com/indian-religion-sant-mahatma/premanand-maharaj-ji-ke-pravachan-124022000048_1.html'}, page_content='Copyright 2025, Webdunia.com'),\n",
       " Document(metadata={'source': 'https://blogs.mygyanalaya.in/premanand-ji-maharaj-ke-pravachan-mandir-kyon/'}, page_content='Gyan Shalaविद्यां ददाति विनयंहमारे धार्मिक और आध्यात्मिक जीवन में, एक प्रश्न जो अक्सर उठता है, वह है भगवान का अस्तित्व—वह कहाँ हैं, और हमें उनकी उपासना कैसे करनी चाहिए। यह प्रश्न उतना ही पुराना है जितना कि मानव सभ्यता का इतिहास। इस संदर्भ में प्रेमानंद जी महाराज का यह उत्तर हमारे लिए एक गहन अंतर्दृष्टि प्रदान करता है।Table of Contentsप्रेमानंद जी महाराज के प्रवचन में पूछा गया, “यदि भगवान कण-कण में विद्यमान हैं, तो हम मंदिरों और गुरुद्वारों में उन्हें क्यों ढूंढ रहे हैं?” यह प्रश्न न केवल धार्मिक दृष्टिकोण को चुनौती देता है, बल्कि हमारे विश्वास और उपासना की दिशा पर भी प्रकाश डालता है। महाराज जी ने इस प्रश्न का उत्तर बड़े ही सटीक और सरल तरीके से दिया।\\xa0उनका कहना है कि यदि आपको भगवान का अनुभव कण-कण में हो रहा है, तो आपको मंदिर में भी उनकी उपस्थिति का अनुभव क्यों नहीं हो रहा? इसका अर्थ यह है कि हमारी बुद्धि अभी परिपक्व नहीं हुई है। हम अपनी आध्यात्मिक यात्रा में केवल एक ही पक्ष को देख रहे हैं और दूसरे पक्ष को नकार रहे हैं। यदि हम मानते हैं कि भगवान कण-कण में हैं, तो वही भगवान मंदिर में भी हैं, और मूर्तियों में भी।\\xa0प्रेमानंद जी महाराज पूछते हैं की क्या आप वास्तव में कण कण में भगवान को अभी अनुभव कर सकतें है? नहीं कर सकते इसीलिए मान्यताओं का सहारा लिया जाता है जिसकी सह्यता से आप उस स्तर पर पहुँच सकें | जैसे किसी गणित के प्रश्न को हल करने के लिए हम ‘मान लो’ का सहारा लेते हैं, उसी प्रकार आध्यात्मिक जीवन में भी हम मान्यताओं के आधार पर चलते हैं। यदि किसी ने मंदिर को भगवान का स्थान मान लिया है, तो उसमें कोई गलत बात नहीं है। जब आप कण-कण में भगवान को अनुभव करने लगेंगे तो आप उसे मंदिर की मूर्ति में भी करने लगेंगे क्योंकि वो उन्हीं कणों से बनी है |प्रेमानंद जी महाराज के प्रवचन में इस बात पर जोर दिया कि जब हमारा ज्ञान पूर्ण हो जाता है, तब विरोध और समर्थन का कोई स्थान नहीं रह जाता। यदि हम किसी व्यक्ति को मूर्ति की पूजा करते हुए देखते हैं, तो हमें यह मान लेना चाहिए कि वह भी उसी ब्रह्म की पूजा कर रहा है, जिसे हम कण-कण में मानते हैं।\\xa0यह भी पढ़ें : प्रेमानंद जी महाराज के प्रवचन : सोने से पहले मोबाईल चलाते हैं तो ये बातें जरूर जान लेंप्रेमानंद जी का यह दृष्टिकोण कि “वो कुछ नहीं हैं और वही सब कुछ हैं,” इस बात को स्पष्ट करता है कि भगवान का स्वरूप केवल साकार या निराकार में सीमित नहीं है। वह सर्वव्यापी हैं और हर रूप में, हर स्थान में विद्यमान हैं। इस प्रकार, किसी की निंदा करना या किसी की पूजा की आलोचना करना हमारे आध्यात्मिक ज्ञान की कमी को दर्शाता हैप्रेमानंद जी महाराज के प्रवचन में इस बात पर भी जोर दिया कि गुरु का महत्व कितना बड़ा है। चाहे आप साकार उपासक हों या निराकार, बिना गुरु की कृपा के ज्ञान की प्राप्ति संभव नहीं है। गुरु ही वह माध्यम हैं जो हमें साकार से निराकार की ओर, और निराकार से साकार की ओर ले जाते हैं।\\xa0यह ध्यान रखना महत्वपूर्ण है कि गुरु की उपासना भी एक प्रकार की साकार उपासना ही है। जब हम गुरु का सम्मान करते हैं, उन्हें प्रणाम करते हैं, उनकी आरती करते हैं, तो हम साकार रूप में उनकी पूजा कर रहे होते हैं। यही साकार उपासना हमें निराकार ब्रह्म की ओर ले जाती है।\\xa0अगर आप भी एक कृष्ण भक्त हैं तो यह जन्माष्टमी आपके लिए होने जा रही है और भी खास क्योंकि आप सभी कृष्ण भक्तों के My Gyanalaya लेकर आया है एक विशेष ऑफर जहां आपको भगवान श्री कृष्ण की प्रिय तुलसी माला, वैजयंती माला और इसी के साथ-साथ रुद्राक्ष और रुद्राक्ष माला पर मिलेगा पूरे 10% का डिस्काउंट\\xa0 साथ में मिलेगी फ्री पंडित जी हेल्पलाइन\\xa0 जिससे आप इन चीजों का सही से उपयोग कर सकें | अगर आप इस अवसर का लाभ उठाना चाहते हैं तो नीचे दी गई लिंक पर जाएँ…https://mygyanalaya.in/कूपन कोड : BHAKT10प्रेमानंद जी महाराज के प्रवचन से यह स्पष्ट होता है कि भगवान के स्वरूप को लेकर जो भी भेदभाव हम करते हैं, वह केवल हमारी अज्ञानता का परिणाम है। जब हमारा ज्ञान पूर्ण हो जाता है, तो हम समझते हैं कि भगवान हर जगह हैं—कण-कण में, मंदिर में, मूर्ति में, और हर उस स्थान पर जहाँ हम उनकी उपस्थिति को अनुभव करते हैं।इसलिए, हमें अपनी उपासना को किसी एक स्थान या रूप तक सीमित नहीं करना चाहिए। भगवान सर्वत्र हैं, और उनकी उपासना कहीं भी, किसी भी रूप में की जा सकती है। यही सच्चा ज्ञान है, और यही हमारी आध्यात्मिक यात्रा का अंतिम लक्ष्य होना चाहिए और किसी अन्य की आलोचना या विरोध में अपना समय और ऊर्जा व्यर्थ करने से बचना चाहिए ||| राधे राधे ||\\n\\nEnter Your Email Address\\t\\t\\t\\t\\t\\t\\n\\n\\n\\n\\n\\n \\nFOLLOW\\t\\t\\t\\t\\t\\t'),\n",
       " Document(metadata={'source': 'https://www.parthsawhney.com/premanand-ji-maharaj-quotes/https://x.com/RadhaKeliKunj'}, page_content='')]"
      ]
     },
     "execution_count": 13,
     "metadata": {},
     "output_type": "execute_result"
    }
   ],
   "source": [
    "all_docs"
   ]
  },
  {
   "cell_type": "code",
   "execution_count": 4,
   "id": "769ef554",
   "metadata": {},
   "outputs": [
    {
     "name": "stderr",
     "output_type": "stream",
     "text": [
      "c:\\Users\\Saarthak\\OneDrive\\Desktop\\Langchain\\venv\\lib\\site-packages\\tqdm\\auto.py:21: TqdmWarning: IProgress not found. Please update jupyter and ipywidgets. See https://ipywidgets.readthedocs.io/en/stable/user_install.html\n",
      "  from .autonotebook import tqdm as notebook_tqdm\n"
     ]
    }
   ],
   "source": [
    "import os\n",
    "os.environ['HF_TOKEN']=os.getenv(\"HF_TOKEN\")\n",
    "from langchain_huggingface import HuggingFaceEmbeddings\n",
    "embeddings=HuggingFaceEmbeddings(model_name=\"sentence-transformers/paraphrase-multilingual-MiniLM-L12-v2\")"
   ]
  },
  {
   "cell_type": "code",
   "execution_count": 5,
   "id": "a3a51a70",
   "metadata": {},
   "outputs": [
    {
     "name": "stdout",
     "output_type": "stream",
     "text": [
      "Loaded 4 documents from 4 websites\n"
     ]
    }
   ],
   "source": [
    "print(f\"Loaded {len(all_docs)} documents from {len(urls)} websites\")\n"
   ]
  },
  {
   "cell_type": "code",
   "execution_count": 6,
   "id": "a78de281",
   "metadata": {},
   "outputs": [
    {
     "name": "stderr",
     "output_type": "stream",
     "text": [
      "Created a chunk of size 1063, which is longer than the specified 800\n",
      "Created a chunk of size 3891, which is longer than the specified 800\n"
     ]
    },
    {
     "data": {
      "text/plain": [
       "[Document(metadata={'source': 'https://www.herzindagi.com/society-culture/premanand-ji-maharaj-quotes-life-article-1004822'}, page_content='Looking for daily motivation? The teachings of Premanand Ji Maharaj, deeply rooted in devotion to Goddess Radha Rani and Lord Krishna, offer profound insights into the complexities of lifeQuotes by Premanand Ji Maharaj\\n\\n\"No person gives you sorrow; rather, your karma manifests as sorrow through that person.\"\\n\"There\\'s only one way to calm anger... Instead of thinking about what their duty is towards us, we should think about what our duty is towards them.\"\\n\"Chant the Lord\\'s name not by counting, but by immersing yourself in it.\"\\n\"Those whose mouths are devoid of the Lord\\'s name, though alive, are dead in speech.\"\\n\"Do not torment the sorrowful, for they will cry; if the Lord of the sorrowful hears, what will become of you?\"'),\n",
       " Document(metadata={'source': 'https://www.herzindagi.com/society-culture/premanand-ji-maharaj-quotes-life-article-1004822'}, page_content='Don\\'t Miss:Top 20+ Ratan Tata Quotes for Inspiration From The Visionary Leader\\n\"Don\\'t think too smugly that no one is watching. When you do wrong, your good deeds are being spent. When your good deeds are exhausted, your current sins and past sins will combine, and no one in the three worlds can save you.\"\\n\"Those who walk the path of truth are inevitably criticised and slandered. One should not be afraid of this. It destroys your bad karma. Where there is criticism and slander for you, your bad karma is destroyed.\"\\n\"Surrender yourself to God. This life, as it is, is given by Him. All the means and resources you have are the effect of His grace. Everything you\\'re enjoying belongs to God. Perform actions with this thought, live life, and it will be blissful.\"\\n\"Protect celibacy. Celibacy is a great nectar element; due to foolishness, people don\\'t pay attention to it.\"\\n\"We receive true love from God. What can a person do, no person can love us because they don\\'t know us, so how can they?\"\\n\"Love is the essence of life. Life is incomplete without love.\"'),\n",
       " Document(metadata={'source': 'https://www.herzindagi.com/society-culture/premanand-ji-maharaj-quotes-life-article-1004822'}, page_content='\"Devotion is the means to attain God.\"\\n\"To live life, we must perform actions. While performing actions, we should not worry about the fruit. God alone gives the fruit of karma.\"\\n\"True happiness is in the soul. Happiness is attained only by keeping the mind calm. The mind becomes calm only through devotion to God.\"\\n\"The one who makes others happy is a true human being.\"\\n\"Never give up, because victory is always waiting for you.\"'),\n",
       " Document(metadata={'source': 'https://www.herzindagi.com/society-culture/premanand-ji-maharaj-quotes-life-article-1004822'}, page_content=\"These quotes from Premanand Ji Maharaj offer a roadmap for navigating life's complexities with grace, faith, and wisdom.Don't Miss:25+ Happy Birthday Wishes For Female Best Friend Who Always Has Your BackFor more such stories, stay tuned to HerZindagiHerzindagi.com is Jagran New Media's gender and lifestyle vertical, catering to women of all age groups, helping them remain updated, on-trend and aware. To improve our performance and understand our readers' interests better, we have created this poll. This will take 2 minutes of your time, do help us out with this link.Image Courtesy: @ShriHitPremanandGovindSharanJiMaharaj/ Flickr\"),\n",
       " Document(metadata={'source': 'https://www.herzindagi.com/society-culture/premanand-ji-maharaj-quotes-life-article-1004822'}, page_content='Take charge of your wellness journey—download the HerZindagi app for daily updates on fitness, beauty, and a healthy lifestyle!GET APP ✕  Our aim is to provide accurate, safe and expert verified information through our articles and social media handles. The remedies, advice and tips mentioned here are for general information only. Please consult your expert before trying any kind of health, beauty, life hacks or astrology related tips. For any feedback or complaint, contact us at compliant_gro@jagrannewmedia.com. More For You10+ Quotes And Teachings Of Guruji Nirmal Singh MaharajLord Khatu Shyam Ji Quotes: 30+ Quotes To Share In The Morning For MotivationFrom Trauma To Transcendence: Using Spirituality To Reclaim Inner Peace15+ Top Lord Krishna Quotes On Love And Relationship To Share With Your PartnerMost SearchedHariyali Teej Date, Timings And HistoryFestival Calendar 2025Tips and Tricks for white clothesAttitude CaptionsHow to grow Curry LeavesTips to Grow Lemon PlantsThis website uses cookies or similar technologies to enhance your browsing experience and provide personalized recommendations. By continuing to use our website, you agree to our Privacy Policy and Cookie Policy.OKFoodStyleEntertainmentWellnessTravelLife & WomenVideoQuizHZ TeamInfluencerFestive RecipeFIGHTBACKThe Daily JagranContact UsAbout UsT&CPrivacy PolicyJoin us on SocialCopyright © 2025 Her ZindagiThis Website Follows The DNPA’s Code Of Conduct For Any Feedback Or Complaint, Email To compliant_gro@jagrannewmedia.com'),\n",
       " Document(metadata={'source': 'https://hindi.webdunia.com/indian-religion-sant-mahatma/premanand-maharaj-ji-ke-pravachan-124022000048_1.html'}, page_content='Copyright 2025, Webdunia.com'),\n",
       " Document(metadata={'source': 'https://blogs.mygyanalaya.in/premanand-ji-maharaj-ke-pravachan-mandir-kyon/'}, page_content='Gyan Shalaविद्यां ददाति विनयंहमारे धार्मिक और आध्यात्मिक जीवन में, एक प्रश्न जो अक्सर उठता है, वह है भगवान का अस्तित्व—वह कहाँ हैं, और हमें उनकी उपासना कैसे करनी चाहिए। यह प्रश्न उतना ही पुराना है जितना कि मानव सभ्यता का इतिहास। इस संदर्भ में प्रेमानंद जी महाराज का यह उत्तर हमारे लिए एक गहन अंतर्दृष्टि प्रदान करता है।Table of Contentsप्रेमानंद जी महाराज के प्रवचन में पूछा गया, “यदि भगवान कण-कण में विद्यमान हैं, तो हम मंदिरों और गुरुद्वारों में उन्हें क्यों ढूंढ रहे हैं?” यह प्रश्न न केवल धार्मिक दृष्टिकोण को चुनौती देता है, बल्कि हमारे विश्वास और उपासना की दिशा पर भी प्रकाश डालता है। महाराज जी ने इस प्रश्न का उत्तर बड़े ही सटीक और सरल तरीके से दिया।\\xa0उनका कहना है कि यदि आपको भगवान का अनुभव कण-कण में हो रहा है, तो आपको मंदिर में भी उनकी उपस्थिति का अनुभव क्यों नहीं हो रहा? इसका अर्थ यह है कि हमारी बुद्धि अभी परिपक्व नहीं हुई है। हम अपनी आध्यात्मिक यात्रा में केवल एक ही पक्ष को देख रहे हैं और दूसरे पक्ष को नकार रहे हैं। यदि हम मानते हैं कि भगवान कण-कण में हैं, तो वही भगवान मंदिर में भी हैं, और मूर्तियों में भी।\\xa0प्रेमानंद जी महाराज पूछते हैं की क्या आप वास्तव में कण कण में भगवान को अभी अनुभव कर सकतें है? नहीं कर सकते इसीलिए मान्यताओं का सहारा लिया जाता है जिसकी सह्यता से आप उस स्तर पर पहुँच सकें | जैसे किसी गणित के प्रश्न को हल करने के लिए हम ‘मान लो’ का सहारा लेते हैं, उसी प्रकार आध्यात्मिक जीवन में भी हम मान्यताओं के आधार पर चलते हैं। यदि किसी ने मंदिर को भगवान का स्थान मान लिया है, तो उसमें कोई गलत बात नहीं है। जब आप कण-कण में भगवान को अनुभव करने लगेंगे तो आप उसे मंदिर की मूर्ति में भी करने लगेंगे क्योंकि वो उन्हीं कणों से बनी है |प्रेमानंद जी महाराज के प्रवचन में इस बात पर जोर दिया कि जब हमारा ज्ञान पूर्ण हो जाता है, तब विरोध और समर्थन का कोई स्थान नहीं रह जाता। यदि हम किसी व्यक्ति को मूर्ति की पूजा करते हुए देखते हैं, तो हमें यह मान लेना चाहिए कि वह भी उसी ब्रह्म की पूजा कर रहा है, जिसे हम कण-कण में मानते हैं।\\xa0यह भी पढ़ें : प्रेमानंद जी महाराज के प्रवचन : सोने से पहले मोबाईल चलाते हैं तो ये बातें जरूर जान लेंप्रेमानंद जी का यह दृष्टिकोण कि “वो कुछ नहीं हैं और वही सब कुछ हैं,” इस बात को स्पष्ट करता है कि भगवान का स्वरूप केवल साकार या निराकार में सीमित नहीं है। वह सर्वव्यापी हैं और हर रूप में, हर स्थान में विद्यमान हैं। इस प्रकार, किसी की निंदा करना या किसी की पूजा की आलोचना करना हमारे आध्यात्मिक ज्ञान की कमी को दर्शाता हैप्रेमानंद जी महाराज के प्रवचन में इस बात पर भी जोर दिया कि गुरु का महत्व कितना बड़ा है। चाहे आप साकार उपासक हों या निराकार, बिना गुरु की कृपा के ज्ञान की प्राप्ति संभव नहीं है। गुरु ही वह माध्यम हैं जो हमें साकार से निराकार की ओर, और निराकार से साकार की ओर ले जाते हैं।\\xa0यह ध्यान रखना महत्वपूर्ण है कि गुरु की उपासना भी एक प्रकार की साकार उपासना ही है। जब हम गुरु का सम्मान करते हैं, उन्हें प्रणाम करते हैं, उनकी आरती करते हैं, तो हम साकार रूप में उनकी पूजा कर रहे होते हैं। यही साकार उपासना हमें निराकार ब्रह्म की ओर ले जाती है।\\xa0अगर आप भी एक कृष्ण भक्त हैं तो यह जन्माष्टमी आपके लिए होने जा रही है और भी खास क्योंकि आप सभी कृष्ण भक्तों के My Gyanalaya लेकर आया है एक विशेष ऑफर जहां आपको भगवान श्री कृष्ण की प्रिय तुलसी माला, वैजयंती माला और इसी के साथ-साथ रुद्राक्ष और रुद्राक्ष माला पर मिलेगा पूरे 10% का डिस्काउंट\\xa0 साथ में मिलेगी फ्री पंडित जी हेल्पलाइन\\xa0 जिससे आप इन चीजों का सही से उपयोग कर सकें | अगर आप इस अवसर का लाभ उठाना चाहते हैं तो नीचे दी गई लिंक पर जाएँ…https://mygyanalaya.in/कूपन कोड : BHAKT10प्रेमानंद जी महाराज के प्रवचन से यह स्पष्ट होता है कि भगवान के स्वरूप को लेकर जो भी भेदभाव हम करते हैं, वह केवल हमारी अज्ञानता का परिणाम है। जब हमारा ज्ञान पूर्ण हो जाता है, तो हम समझते हैं कि भगवान हर जगह हैं—कण-कण में, मंदिर में, मूर्ति में, और हर उस स्थान पर जहाँ हम उनकी उपस्थिति को अनुभव करते हैं।इसलिए, हमें अपनी उपासना को किसी एक स्थान या रूप तक सीमित नहीं करना चाहिए। भगवान सर्वत्र हैं, और उनकी उपासना कहीं भी, किसी भी रूप में की जा सकती है। यही सच्चा ज्ञान है, और यही हमारी आध्यात्मिक यात्रा का अंतिम लक्ष्य होना चाहिए और किसी अन्य की आलोचना या विरोध में अपना समय और ऊर्जा व्यर्थ करने से बचना चाहिए ||| राधे राधे ||'),\n",
       " Document(metadata={'source': 'https://blogs.mygyanalaya.in/premanand-ji-maharaj-ke-pravachan-mandir-kyon/'}, page_content='Enter Your Email Address\\t\\t\\t\\t\\t\\t\\n\\n \\nFOLLOW'),\n",
       " Document(metadata={'source': 'https://www.parthsawhney.com/premanand-ji-maharaj-quotes/'}, page_content=\"Premanand Ji Maharaj, a revered spiritual leader from Vrindavan, India, has illuminated countless lives with his profound teachings on spirituality and righteous living. Born as Aniruddh Kumar Pandey into a devout Brahmin family in Kanpur, Uttar Pradesh, his journey from a young seeker to a distinguished saint is both inspiring and enlightening.His teachings emphasize the importance of inner purity, unwavering faith, and selfless service. Central to his philosophy is the belief that true happiness stems from within and that aligning oneself with divine principles leads to a fulfilling life.Here are some of his most impactful quotes:These teachings encourage introspection and guide individuals toward a path of righteousness and inner peace. They serve as a reminder that our actions and thoughts shape our reality, and by aligning them with divine virtues, we can attain true contentment.Incorporating Premanand Ji Maharaj's wisdom into our daily lives can lead to profound transformations. By focusing on our duties, immersing ourselves in spiritual practices, and recognizing the divine within, we pave the way for a life filled with purpose and joy.His legacy continues to inspire countless souls, guiding them toward a deeper understanding of themselves and their connection to the universe. Embracing his teachings can be the catalyst for a life of fulfillment, peace, and spiritual awakening.\")]"
      ]
     },
     "execution_count": 6,
     "metadata": {},
     "output_type": "execute_result"
    }
   ],
   "source": [
    "splitter = CharacterTextSplitter(chunk_size=800, chunk_overlap=50)\n",
    "docs_split = splitter.split_documents(all_docs)\n",
    "docs_split"
   ]
  },
  {
   "cell_type": "code",
   "execution_count": 7,
   "id": "d05ca7ef",
   "metadata": {},
   "outputs": [
    {
     "name": "stderr",
     "output_type": "stream",
     "text": [
      "c:\\Users\\Saarthak\\OneDrive\\Desktop\\Langchain\\venv\\lib\\site-packages\\torch\\nn\\modules\\module.py:1762: FutureWarning: `encoder_attention_mask` is deprecated and will be removed in version 4.55.0 for `BertSdpaSelfAttention.forward`.\n",
      "  return forward_call(*args, **kwargs)\n"
     ]
    }
   ],
   "source": [
    "vectorstore = FAISS.from_documents(docs_split, embeddings)\n"
   ]
  },
  {
   "cell_type": "code",
   "execution_count": 8,
   "id": "1bdad2da",
   "metadata": {},
   "outputs": [],
   "source": [
    "retriever = vectorstore.as_retriever(search_type=\"similarity\", k=3)\n"
   ]
  },
  {
   "cell_type": "code",
   "execution_count": 9,
   "id": "07208b0f",
   "metadata": {},
   "outputs": [
    {
     "data": {
      "text/plain": [
       "VectorStoreRetriever(tags=['FAISS', 'HuggingFaceEmbeddings'], vectorstore=<langchain_community.vectorstores.faiss.FAISS object at 0x0000020F7F80ED40>, search_kwargs={})"
      ]
     },
     "execution_count": 9,
     "metadata": {},
     "output_type": "execute_result"
    }
   ],
   "source": [
    "retriever"
   ]
  },
  {
   "cell_type": "code",
   "execution_count": 10,
   "id": "508facc0",
   "metadata": {},
   "outputs": [
    {
     "data": {
      "text/plain": [
       "ChatGroq(client=<groq.resources.chat.completions.Completions object at 0x0000020F006EB9D0>, async_client=<groq.resources.chat.completions.AsyncCompletions object at 0x0000020F00719EA0>, model_name='Llama3-8b-8192', model_kwargs={}, groq_api_key=SecretStr('**********'))"
      ]
     },
     "execution_count": 10,
     "metadata": {},
     "output_type": "execute_result"
    }
   ],
   "source": [
    "import os\n",
    "from dotenv import load_dotenv\n",
    "load_dotenv()\n",
    "from langchain_groq import ChatGroq\n",
    "\n",
    "groq_api_key=os.getenv(\"GROQ_API_KEY\")\n",
    "\n",
    "llm=ChatGroq(groq_api_key=groq_api_key,model_name=\"Llama3-8b-8192\")\n",
    "\n",
    "llm\n",
    "\n"
   ]
  },
  {
   "cell_type": "code",
   "execution_count": 18,
   "id": "191f2c5b",
   "metadata": {},
   "outputs": [],
   "source": [
    "from langchain_chroma import Chroma\n",
    "from langchain_community.document_loaders import WebBaseLoader\n",
    "from langchain_core.prompts import ChatPromptTemplate\n",
    "from langchain_text_splitters import RecursiveCharacterTextSplitter\n",
    "from langchain.chains import create_retrieval_chain\n",
    "from langchain.chains.combine_documents import create_stuff_documents_chain"
   ]
  },
  {
   "cell_type": "code",
   "execution_count": 56,
   "id": "7b039ee1",
   "metadata": {},
   "outputs": [],
   "source": [
    "## Prompt Template\n",
    "system_prompt = (\n",
    "    \"You are a devotional assistant that answers questions strictly based on the teachings and wisdom of Premanand Ji Maharaj. \"\n",
    "    \"You must never say that a topic is not mentioned or not found directly. \"\n",
    "    \"Always provide an insightful and spiritually uplifting answer inspired by Maharaj Ji's values. \"\n",
    "    \"If context seems unrelated, use it metaphorically or draw general wisdom from it. \"\n",
    "    \"Always mention Goddess Radha in the response, using 'Radha Rani' instead of God or divine. \"\n",
    "    \"If absolutely no information can be used, simply respond with 'जय श्री राधे रानी।' \"\n",
    "    \"\\n\\n\"\n",
    "    \"{context}\"\n",
    ")\n",
    "\n",
    "prompt = ChatPromptTemplate.from_messages(\n",
    "    [\n",
    "        (\"system\", system_prompt),\n",
    "        (\"human\", \"{input}\"),\n",
    "    ]\n",
    ")"
   ]
  },
  {
   "cell_type": "code",
   "execution_count": 57,
   "id": "81841e46",
   "metadata": {},
   "outputs": [],
   "source": [
    "question_answer_chain=create_stuff_documents_chain(llm,prompt)\n",
    "rag_chain=create_retrieval_chain(retriever,question_answer_chain)"
   ]
  },
  {
   "cell_type": "code",
   "execution_count": 61,
   "id": "472a2e45",
   "metadata": {},
   "outputs": [
    {
     "name": "stderr",
     "output_type": "stream",
     "text": [
      "c:\\Users\\Saarthak\\OneDrive\\Desktop\\Langchain\\venv\\lib\\site-packages\\torch\\nn\\modules\\module.py:1762: FutureWarning: `encoder_attention_mask` is deprecated and will be removed in version 4.55.0 for `BertSdpaSelfAttention.forward`.\n",
      "  return forward_call(*args, **kwargs)\n"
     ]
    },
    {
     "data": {
      "text/plain": [
       "'महाराज जी के अनुसार, जीवन का सच्चा सुख अंदर से आता है। वे कहते हैं कि हमारे कर्म हमें सुख या दु:ख देते हैं,イズ कोई व्यक्ति नहीं है जिसने हमें दु:ख दिया हो। हमारे कर्म के अनुसार ही सुख या दु:ख आता है।\\n\\nवे इसके अलावा कहते हैं कि हमारे जीवन में स्थायी सुख के लिए हमें अपने कर्तव्य का पालन करना चाहिए, अपने कार्यों के साथ भगवान का नाम लेना चाहिए, और अपने साथ होने वाले दु:ख के लिए हमें स्वयं के कर्तव्य का पालन करना चाहिए।\\n\\nवे कहते हैं कि हमें अपने जीवन में सच्चे प्रेम का अनुभव करना चाहिए, क्योंकि प्रेम जीवन का मूल है, और जीवन बिना प्रेम के अधूरा है। राधा रानी की शरण में रहकर हम अपने जीवन को साधना के साथ साथ सुंदर बना सकते हैं।'"
      ]
     },
     "execution_count": 61,
     "metadata": {},
     "output_type": "execute_result"
    }
   ],
   "source": [
    "response=rag_chain.invoke({\"input\":\"Answer in hindi. What does Maharaj Ji say about life?\"})\n",
    "response['answer']"
   ]
  },
  {
   "cell_type": "code",
   "execution_count": null,
   "id": "c994f065",
   "metadata": {},
   "outputs": [],
   "source": []
  },
  {
   "cell_type": "code",
   "execution_count": null,
   "id": "f19d5f57",
   "metadata": {},
   "outputs": [],
   "source": []
  }
 ],
 "metadata": {
  "kernelspec": {
   "display_name": "Python 3",
   "language": "python",
   "name": "python3"
  },
  "language_info": {
   "codemirror_mode": {
    "name": "ipython",
    "version": 3
   },
   "file_extension": ".py",
   "mimetype": "text/x-python",
   "name": "python",
   "nbconvert_exporter": "python",
   "pygments_lexer": "ipython3",
   "version": "3.10.0"
  }
 },
 "nbformat": 4,
 "nbformat_minor": 5
}
